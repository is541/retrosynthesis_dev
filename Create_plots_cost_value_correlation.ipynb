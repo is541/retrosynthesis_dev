{
 "cells": [
  {
   "cell_type": "code",
   "execution_count": null,
   "id": "a7e8f997",
   "metadata": {},
   "outputs": [],
   "source": [
    "import pandas as pd\n",
    "import os\n",
    "\n",
    "import plotly.express as px"
   ]
  },
  {
   "cell_type": "code",
   "execution_count": null,
   "id": "fc5577b7",
   "metadata": {},
   "outputs": [],
   "source": [
    "labelalias = {\n",
    "    'constant-0': 'constant-0',\n",
    "    'Tanimoto-distance': 'Tanimoto',\n",
    "    'Tanimoto-distance-TIMES10': 'Tanimoto_times10',\n",
    "    'Tanimoto-distance-TIMES100': 'Tanimoto_times100',\n",
    "    'Tanimoto-distance-EXP': 'Tanimoto_exp',\n",
    "    'Tanimoto-distance-SQRT': 'Tanimoto_sqrt',\n",
    "    \"Tanimoto-distance-NUM_NEIGHBORS_TO_06\": \"Tanimoto_nn_to_06\",\n",
    "}\n",
    "\n"
   ]
  },
  {
   "cell_type": "code",
   "execution_count": null,
   "id": "2897be52",
   "metadata": {},
   "outputs": [],
   "source": [
    "eventid= '202305-2911-2320-5a95df0e-3008-4ebe-acd8-ecb3b50607c7'\n",
    "input_folder = f\"Runs/{eventid}\"\n",
    "\n",
    "output_folder = f'Plots/{eventid}/Cost_value_correlation'\n",
    "\n",
    "if not os.path.exists(output_folder):\n",
    "        os.makedirs(output_folder)\n",
    "\n",
    "\n",
    "df_results_tot = pd.read_csv(f'{input_folder}/paroutes_n5_result_added_value_fns.csv')"
   ]
  },
  {
   "cell_type": "code",
   "execution_count": null,
   "id": "fd4aa440",
   "metadata": {},
   "outputs": [],
   "source": [
    "df_results_tot['is_solved'] = (df_results_tot['first_soln_time']!=-1 )\n",
    "\n",
    "df_results_tot"
   ]
  },
  {
   "cell_type": "code",
   "execution_count": null,
   "id": "435f88cd",
   "metadata": {},
   "outputs": [],
   "source": [
    "fig = px.violin(df_results_tot, x=\"lowest_depth_route_found\", y=\"Tanimoto-distance\", width=1000, height=600,\n",
    "#              points='all',\n",
    "                box=True,\n",
    "                color='is_solved',\n",
    "                color_discrete_sequence = [px.colors.qualitative.Plotly[1], px.colors.qualitative.Plotly[0]],\n",
    "                violinmode='overlay',\n",
    "             labels={\n",
    "#                      \"algorithm\": None,\n",
    "#                      \"value\": \"Time to first solution\",\n",
    "#                      \"species\": \"Species of Iris\"\n",
    "                 },\n",
    "#              title=\"Time to first solution\"\n",
    "            )\n",
    "fig.update_layout(xaxis_title=\"Cost of minimal-cost route to syntesise target </br></br> (assignig cost=1 to each reaction and cost=0 to each molecule in route)\", \n",
    "                  yaxis_title=\"Tanimoto distance between taget </br></br> and closest purchasable molecule\",\n",
    "                  title=\"Correlation between nearest neighbour distance and minimal cost route\"\n",
    "                 )\n",
    "# fig.update_xaxes(labelalias=labelalias, categoryorder='array', categoryarray=list(labelalias.keys()))\n",
    "# fig.write_image(f'{output_folder}/Boxplot_time_first_solution.png') \n",
    "fig.write_image(f\"{output_folder}/cost_value_correlation_Tanimoto.pdf\") \n",
    "fig.show()"
   ]
  },
  {
   "cell_type": "code",
   "execution_count": null,
   "id": "71fb47b3",
   "metadata": {},
   "outputs": [],
   "source": [
    "# fig = px.box(df_results_tot, x=\"lowest_depth_route_found\", y=\"Tanimoto-distance\", width=1000, height=600,\n",
    "#              points='all',\n",
    "#              labels={\n",
    "# #                      \"algorithm\": None,\n",
    "# #                      \"value\": \"Time to first solution\",\n",
    "# #                      \"species\": \"Species of Iris\"\n",
    "#                  },\n",
    "# #              title=\"Time to first solution\"\n",
    "#             )\n",
    "# # fig.update_layout(xaxis_title=None)\n",
    "# # fig.update_xaxes(labelalias=labelalias, categoryorder='array', categoryarray=list(labelalias.keys()))\n",
    "# # fig.write_image(f'{output_folder}/Boxplot_time_first_solution.png') \n",
    "# fig.show()"
   ]
  },
  {
   "cell_type": "code",
   "execution_count": null,
   "id": "fc8ddbd3",
   "metadata": {},
   "outputs": [],
   "source": [
    "\n",
    "# fig = px.violin(df_results_tot, x=\"lowest_cost_route_(binned)\", y=\"Tanimoto-distance\", width=1000, height=600,\n",
    "#              box=True,\n",
    "#                 labels={\n",
    "# #                      \"algorithm\": None,\n",
    "# #                      \"value\": \"Time to first solution\",\n",
    "# #                      \"species\": \"Species of Iris\"\n",
    "#                  },\n",
    "# #              title=\"Time to first solution\"\n",
    "#             )\n",
    "# fig.update_layout(xaxis_title=None)\n",
    "# fig.update_xaxes(categoryorder=\"category ascending\")\n",
    "# # fig.update_xaxes(labelalias=labelalias, categoryorder='array', categoryarray=list(labelalias.keys()))\n",
    "\n",
    "\n",
    "# fig.show()"
   ]
  },
  {
   "cell_type": "code",
   "execution_count": null,
   "id": "e442d16d",
   "metadata": {},
   "outputs": [],
   "source": []
  }
 ],
 "metadata": {
  "kernelspec": {
   "display_name": "Python 3 (ipykernel)",
   "language": "python",
   "name": "python3"
  },
  "language_info": {
   "codemirror_mode": {
    "name": "ipython",
    "version": 3
   },
   "file_extension": ".py",
   "mimetype": "text/x-python",
   "name": "python",
   "nbconvert_exporter": "python",
   "pygments_lexer": "ipython3",
   "version": "3.10.8"
  }
 },
 "nbformat": 4,
 "nbformat_minor": 5
}
