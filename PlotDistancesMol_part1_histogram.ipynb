{
 "cells": [
  {
   "cell_type": "code",
   "execution_count": 1,
   "id": "5825423b",
   "metadata": {},
   "outputs": [],
   "source": [
    "import math\n",
    "import random\n",
    "import plotly.graph_objects as go\n",
    "# import plotly.offline as pyo\n",
    "# pyo.init_notebook_mode()\n",
    "import pickle\n",
    "import pandas as pd\n",
    "import numpy as np\n",
    "from tqdm import tqdm\n",
    "\n",
    "from rdkit import Chem\n",
    "import plotly.express as px\n",
    "import os\n",
    "import time\n"
   ]
  },
  {
   "cell_type": "code",
   "execution_count": 2,
   "id": "40cc2514",
   "metadata": {},
   "outputs": [],
   "source": [
    "distance_to_consider = 'Tanimoto'\n",
    "# distance_to_consider = 'Fnps-nn'\n",
    "# distance_to_consider = 'Gnn'\n",
    "\n",
    "if distance_to_consider=='Tanimoto':\n",
    "#     distance_col = \"Tanimoto_distance_to_target\"\n",
    "#     rank_col = 'distance_to_target_rank'\n",
    "    rank_col = 'Tanimoto_distance_to_target_rank'\n",
    "elif distance_to_consider=='Fnps-nn':\n",
    "    rank_col = 'Fnps_distance_to_target_rank'\n",
    "elif distance_to_consider=='Gnn':\n",
    "    rank_col = 'Gnn_distance_to_target_rank'\n",
    "\n"
   ]
  },
  {
   "cell_type": "code",
   "execution_count": null,
   "id": "9c89e710",
   "metadata": {},
   "outputs": [],
   "source": []
  },
  {
   "cell_type": "code",
   "execution_count": 3,
   "id": "0eb8468d",
   "metadata": {},
   "outputs": [
    {
     "ename": "FileNotFoundError",
     "evalue": "[Errno 2] No such file or directory: 'Runs/202305-2911-2320-5a95df0e-3008-4ebe-acd8-ecb3b50607c7/targ_to_purch_distances_v2.pickle'",
     "output_type": "error",
     "traceback": [
      "\u001b[0;31m---------------------------------------------------------------------------\u001b[0m",
      "\u001b[0;31mFileNotFoundError\u001b[0m                         Traceback (most recent call last)",
      "Cell \u001b[0;32mIn[3], line 36\u001b[0m\n\u001b[1;32m     33\u001b[0m     targ_routes_dict \u001b[38;5;241m=\u001b[39m pickle\u001b[38;5;241m.\u001b[39mload(handle)\n\u001b[1;32m     35\u001b[0m \u001b[38;5;66;03m# Load distances data\u001b[39;00m\n\u001b[0;32m---> 36\u001b[0m \u001b[38;5;28;01mwith\u001b[39;00m \u001b[38;5;28;43mopen\u001b[39;49m\u001b[43m(\u001b[49m\u001b[43minput_file_distances\u001b[49m\u001b[43m,\u001b[49m\u001b[43m \u001b[49m\u001b[38;5;124;43m'\u001b[39;49m\u001b[38;5;124;43mrb\u001b[39;49m\u001b[38;5;124;43m'\u001b[39;49m\u001b[43m)\u001b[49m \u001b[38;5;28;01mas\u001b[39;00m handle:\n\u001b[1;32m     37\u001b[0m     distances_dict \u001b[38;5;241m=\u001b[39m pickle\u001b[38;5;241m.\u001b[39mload(handle)\n\u001b[1;32m     41\u001b[0m output_folder \u001b[38;5;241m=\u001b[39m \u001b[38;5;124mf\u001b[39m\u001b[38;5;124m'\u001b[39m\u001b[38;5;124mPlots/\u001b[39m\u001b[38;5;132;01m{\u001b[39;00mrun_id\u001b[38;5;132;01m}\u001b[39;00m\u001b[38;5;124m/Histograms_v2/\u001b[39m\u001b[38;5;132;01m{\u001b[39;00mdistance_to_consider\u001b[38;5;132;01m}\u001b[39;00m\u001b[38;5;124m'\u001b[39m\n",
      "File \u001b[0;32m~/miniforge3/envs/syntheseus_temp/lib/python3.10/site-packages/IPython/core/interactiveshell.py:284\u001b[0m, in \u001b[0;36m_modified_open\u001b[0;34m(file, *args, **kwargs)\u001b[0m\n\u001b[1;32m    277\u001b[0m \u001b[38;5;28;01mif\u001b[39;00m file \u001b[38;5;129;01min\u001b[39;00m {\u001b[38;5;241m0\u001b[39m, \u001b[38;5;241m1\u001b[39m, \u001b[38;5;241m2\u001b[39m}:\n\u001b[1;32m    278\u001b[0m     \u001b[38;5;28;01mraise\u001b[39;00m \u001b[38;5;167;01mValueError\u001b[39;00m(\n\u001b[1;32m    279\u001b[0m         \u001b[38;5;124mf\u001b[39m\u001b[38;5;124m\"\u001b[39m\u001b[38;5;124mIPython won\u001b[39m\u001b[38;5;124m'\u001b[39m\u001b[38;5;124mt let you open fd=\u001b[39m\u001b[38;5;132;01m{\u001b[39;00mfile\u001b[38;5;132;01m}\u001b[39;00m\u001b[38;5;124m by default \u001b[39m\u001b[38;5;124m\"\u001b[39m\n\u001b[1;32m    280\u001b[0m         \u001b[38;5;124m\"\u001b[39m\u001b[38;5;124mas it is likely to crash IPython. If you know what you are doing, \u001b[39m\u001b[38;5;124m\"\u001b[39m\n\u001b[1;32m    281\u001b[0m         \u001b[38;5;124m\"\u001b[39m\u001b[38;5;124myou can use builtins\u001b[39m\u001b[38;5;124m'\u001b[39m\u001b[38;5;124m open.\u001b[39m\u001b[38;5;124m\"\u001b[39m\n\u001b[1;32m    282\u001b[0m     )\n\u001b[0;32m--> 284\u001b[0m \u001b[38;5;28;01mreturn\u001b[39;00m \u001b[43mio_open\u001b[49m\u001b[43m(\u001b[49m\u001b[43mfile\u001b[49m\u001b[43m,\u001b[49m\u001b[43m \u001b[49m\u001b[38;5;241;43m*\u001b[39;49m\u001b[43margs\u001b[49m\u001b[43m,\u001b[49m\u001b[43m \u001b[49m\u001b[38;5;241;43m*\u001b[39;49m\u001b[38;5;241;43m*\u001b[39;49m\u001b[43mkwargs\u001b[49m\u001b[43m)\u001b[49m\n",
      "\u001b[0;31mFileNotFoundError\u001b[0m: [Errno 2] No such file or directory: 'Runs/202305-2911-2320-5a95df0e-3008-4ebe-acd8-ecb3b50607c7/targ_to_purch_distances_v2.pickle'"
     ]
    }
   ],
   "source": [
    "# # Example data\n",
    "# data = [\n",
    "#     ['Central Point', 0, 'in_route'],\n",
    "#     ['Point A', 2.5, 'not_in_route'],\n",
    "#     ['Point B', 1.8, 'in_route'],\n",
    "#     ['Point C', 3.2, 'in_route'],\n",
    "#     ['Point D', 2.1, 'not_in_route'],\n",
    "#     ['Point E', 2.9, 'not_in_route'],\n",
    "#     ['Point F', 2.6, 'not_in_route'],\n",
    "#     ['Point D', 2.1, 'not_in_route'],\n",
    "#     ['Point E', 2.9, 'not_in_route'],\n",
    "#     ['Point F', 2.6, 'not_in_route'],\n",
    "# ]\n",
    "\n",
    "\n",
    "# # Read data\n",
    "# with open('graphs/targ_routes.pickle', 'rb') as handle:\n",
    "#     targ_routes_dict = pickle.load(handle)\n",
    "    \n",
    "# # Load distances data\n",
    "# with open('graphs/targ_to_purch_distances.pickle', 'rb') as handle:\n",
    "#     distances_dict = pickle.load(handle)\n",
    "\n",
    "\n",
    "run_id = '202305-2911-2320-5a95df0e-3008-4ebe-acd8-ecb3b50607c7'\n",
    "# input_file = f'Runs/{run_id}/routes_df.csv'\n",
    "# routes_df = pd.read_csv(input_file)\n",
    "\n",
    "input_file_routes = f'Runs/{run_id}/targ_routes.pickle'\n",
    "input_file_distances = f'Runs/{run_id}/targ_to_purch_distances_v2.pickle'\n",
    "\n",
    "with open(input_file_routes, 'rb') as handle:\n",
    "    targ_routes_dict = pickle.load(handle)\n",
    "    \n",
    "# Load distances data\n",
    "with open(input_file_distances, 'rb') as handle:\n",
    "    distances_dict = pickle.load(handle)\n",
    "\n",
    "\n",
    "\n",
    "output_folder = f'Plots/{run_id}/Histograms_v2/{distance_to_consider}'\n",
    "\n",
    "if not os.path.exists(output_folder):\n",
    "    os.makedirs(output_folder)\n",
    "\n",
    "\n"
   ]
  },
  {
   "cell_type": "code",
   "execution_count": null,
   "id": "4ea75334",
   "metadata": {},
   "outputs": [],
   "source": [
    "# targ_routes_dict['CCc1cc2nncc(N3CCc4[nH]nc(C(=O)NC5CC5)c4C3)c2cc1OC']"
   ]
  },
  {
   "cell_type": "code",
   "execution_count": null,
   "id": "75fcdd3e",
   "metadata": {},
   "outputs": [],
   "source": [
    "def concatenate_target_routes_data(targ_routes_dict, distances_dict):\n",
    "    first = True\n",
    "    for target, data_target in targ_routes_dict.items():\n",
    "        if len(data_target.keys())>0:\n",
    "            data_target_route_1 = data_target['route_1'][['smiles', 'depth']]\n",
    "            data_target_route_1= data_target_route_1.rename(columns={'depth': 'depth_route_1'})\n",
    "        else:\n",
    "            data_target_route_1 = pd.DataFrame(columns=['smiles', 'depth_route_1'])\n",
    "        if len(data_target.keys())>1:\n",
    "            data_target_route_2 = data_target['route_2'][['smiles',  'depth']]\n",
    "            data_target_route_2= data_target_route_2.rename(columns={'depth': 'depth_route_2'})\n",
    "        else:\n",
    "            data_target_route_2 = pd.DataFrame(columns=['smiles', 'depth_route_2'])\n",
    "        if len(data_target.keys())>2:\n",
    "            data_target_route_3 = data_target['route_3'][['smiles',  'depth']]\n",
    "            data_target_route_3 = data_target_route_3.rename(columns={'depth': 'depth_route_3'})\n",
    "        else:\n",
    "            data_target_route_3 = pd.DataFrame(columns=['smiles', 'depth_route_3'])\n",
    "\n",
    "        data_current_target = pd.merge(data_target_route_1, data_target_route_2, how='outer', on='smiles')\n",
    "        data_current_target = pd.merge(data_current_target, data_target_route_3, how='outer', on='smiles')\n",
    "        data_current_target = data_current_target.loc[data_current_target['smiles']!=target]\n",
    "\n",
    "        # Add distance info\n",
    "        data_current_target = pd.merge(data_current_target, distances_dict[target], on='smiles', how='left')\n",
    "        # Add target info\n",
    "        data_current_target['target'] = target \n",
    "\n",
    "        if first:\n",
    "            data_all_target = data_current_target\n",
    "            first = False\n",
    "        else:\n",
    "            data_all_target = pd.concat([data_all_target, data_current_target])\n",
    "            \n",
    "    return data_all_target\n",
    "\n"
   ]
  },
  {
   "cell_type": "markdown",
   "id": "05bee344",
   "metadata": {},
   "source": [
    "## Routes overlap"
   ]
  },
  {
   "cell_type": "code",
   "execution_count": null,
   "id": "0b14967d",
   "metadata": {},
   "outputs": [],
   "source": [
    "# columns = [\n",
    "#     \"smiles\",\n",
    "# #     \"Tanimoto_distance_from_target\",\n",
    "#     \"depth_route_1\",\n",
    "#     \"depth_route_2\",\n",
    "#     \"depth_route_3\",\n",
    "# #     \"distance_to_target_rank\"\n",
    "# ]\n",
    "# data_all_target = pd.DataFrame(columns=columns)\n",
    "\n",
    "#     print(data_all_target)\n",
    "#     print(data_all_target.count())\n",
    "\n",
    "data_all_target = concatenate_target_routes_data(\n",
    "    targ_routes_dict=targ_routes_dict, \n",
    "    distances_dict=distances_dict\n",
    ")"
   ]
  },
  {
   "cell_type": "code",
   "execution_count": null,
   "id": "5fafc0a5",
   "metadata": {},
   "outputs": [],
   "source": [
    "list(distances_dict.keys())[0]"
   ]
  },
  {
   "cell_type": "code",
   "execution_count": null,
   "id": "cc76b2a7",
   "metadata": {},
   "outputs": [],
   "source": [
    "distances_dict['CCc1cc2nncc(N3CCc4[nH]nc(C(=O)NC5CC5)c4C3)c2cc1OC']"
   ]
  },
  {
   "cell_type": "markdown",
   "id": "16b437d6",
   "metadata": {},
   "source": [
    "### Compute molecule complexities"
   ]
  },
  {
   "cell_type": "code",
   "execution_count": null,
   "id": "d416f987",
   "metadata": {},
   "outputs": [],
   "source": [
    "def num_heavy_atoms(mol):\n",
    "#     return Chem.rdMolDescriptors.CalcNumHeavyAtoms(mol)\n",
    "    return Chem.rdchem.Mol.GetNumAtoms(mol, onlyExplicit=True)\n",
    "\n",
    "unique_smiles = data_all_target['smiles'].unique()\n",
    "smiles_complexity_dict = {smiles: num_heavy_atoms(Chem.MolFromSmiles(smiles)) for smiles in unique_smiles}\n",
    "\n",
    "data_all_target['smiles_nr_explicit_atoms'] = data_all_target['smiles'].map(smiles_complexity_dict)\n"
   ]
  },
  {
   "cell_type": "code",
   "execution_count": null,
   "id": "76642a97",
   "metadata": {},
   "outputs": [],
   "source": [
    "# data_all_target['smiles_nr_explicit_atoms'].min()"
   ]
  },
  {
   "cell_type": "code",
   "execution_count": null,
   "id": "aff558cc",
   "metadata": {},
   "outputs": [],
   "source": [
    "fig = px.histogram(data_all_target.dropna(subset=['depth_route_1'], how='all'), x='smiles_nr_explicit_atoms')\n",
    "fig.update_layout(width=1000, height=600)\n",
    "fig.write_image(f\"{output_folder}/nr_explicit_atoms.pdf\")\n",
    "time.sleep(10)\n",
    "fig.write_image(f\"{output_folder}/nr_explicit_atoms.pdf\") \n",
    "fig.show()\n",
    "\n"
   ]
  },
  {
   "cell_type": "markdown",
   "id": "207aba52",
   "metadata": {},
   "source": [
    "##### Bin values"
   ]
  },
  {
   "cell_type": "code",
   "execution_count": null,
   "id": "252968b1",
   "metadata": {},
   "outputs": [],
   "source": [
    "# Binned cost (lowest_cost_route_found)\n",
    "nr_atoms_variable = 'smiles_nr_explicit_atoms'\n",
    "binned_var_name = 'smiles_nr_explicit_atoms_(binned)'\n",
    "num_bins = 10\n",
    "min_value = int(data_all_target[nr_atoms_variable].min()) \n",
    "max_value = int(data_all_target[nr_atoms_variable].max())\n",
    "bin_range =np.linspace(min_value, max_value, num_bins+1, dtype=int)\n",
    "bin_labels = [f'{str(int(round(lower,0))).zfill(3)}-{str(int(round(upper,0))).zfill(3)}' for lower, upper in zip(bin_range[:-1], bin_range[1:])]\n",
    "\n",
    "data_all_target[binned_var_name] = pd.cut(data_all_target[nr_atoms_variable], \n",
    "                                          bins=bin_range, \n",
    "                                          labels=bin_labels, \n",
    "                                          include_lowest=True)"
   ]
  },
  {
   "cell_type": "code",
   "execution_count": null,
   "id": "5a812f3b",
   "metadata": {},
   "outputs": [],
   "source": [
    "fig = px.histogram(data_all_target.dropna(subset=['depth_route_1'], how='all').sort_values('smiles_nr_explicit_atoms_(binned)'), \n",
    "             x='smiles_nr_explicit_atoms_(binned)')\n",
    "fig.show()\n"
   ]
  },
  {
   "cell_type": "markdown",
   "id": "167a7d15",
   "metadata": {},
   "source": [
    "## Histograms"
   ]
  },
  {
   "cell_type": "code",
   "execution_count": null,
   "id": "91e481ca",
   "metadata": {},
   "outputs": [],
   "source": [
    "data_all_target.count()"
   ]
  },
  {
   "cell_type": "code",
   "execution_count": null,
   "id": "2378fb45",
   "metadata": {},
   "outputs": [],
   "source": [
    "\n"
   ]
  },
  {
   "cell_type": "code",
   "execution_count": null,
   "id": "694dc364",
   "metadata": {},
   "outputs": [],
   "source": [
    "# import random\n",
    "# random.set_seed(seed)\n",
    "eps = 0.1\n",
    "data_target_sorted_to_plot = data_all_target.copy()\n",
    "jitter = np.random.uniform(low=-eps/4, high=eps/4, size=len(data_target_sorted_to_plot.index))\n",
    "data_target_sorted_to_plot['dummy_ones'] = 1 + jitter\n",
    "\n",
    "fig = go.Figure()\n",
    "df1 = data_target_sorted_to_plot.dropna(subset=['depth_route_1'], how='all')\n",
    "df2 = data_target_sorted_to_plot.dropna(subset=['depth_route_2'], how='all')\n",
    "df3 = data_target_sorted_to_plot.dropna(subset=['depth_route_3'], how='all')\n",
    "fig.add_trace(go.Scatter(x=df1[rank_col], \n",
    "                         y=df1['dummy_ones']+eps,mode='markers', name='route_1'))\n",
    "fig.add_trace(go.Scatter(x=df2[rank_col], \n",
    "                         y=df2['dummy_ones'],mode='markers', name='route_2'))\n",
    "fig.add_trace(go.Scatter(x=df3[rank_col], \n",
    "                         y=df3['dummy_ones']-eps,mode='markers', name='route_3'))\n",
    "\n",
    "fig.update_traces(opacity=0.75)\n",
    "# fig.update_layout(barmode='group')\n",
    "fig.update_xaxes(type=\"log\", title='Purchasable molecule rank according to distance from target. Ranges between 1 and dim_inventory (i.e. 13325). (log scale)')\n",
    "fig.update_yaxes(visible=False)\n",
    "fig.update_layout(title=\"Rank of purchasable molecules in routes, according to distance to the target (log-x scale)\", width=1000, height=600)\n",
    "fig.write_image(f\"{output_folder}/{distance_to_consider}_rank_in_route_1_2_3_log_scale.pdf\") \n",
    "time.sleep(10)\n",
    "fig.write_image(f\"{output_folder}/{distance_to_consider}_rank_in_route_1_2_3_log_scale.pdf\")\n",
    "fig.show()"
   ]
  },
  {
   "cell_type": "code",
   "execution_count": null,
   "id": "af53a59f",
   "metadata": {},
   "outputs": [],
   "source": [
    "nbinsx = 100\n",
    "fig = go.Figure()\n",
    "fig.add_trace(go.Histogram(x=data_all_target.dropna(subset=['depth_route_1'], how='all')[rank_col], \n",
    "                           nbinsx=nbinsx, name='route_1'))\n",
    "fig.add_trace(go.Histogram(x=data_all_target.dropna(subset=['depth_route_2'], how='all')[rank_col], \n",
    "                           nbinsx=nbinsx, name='route_2'))\n",
    "fig.add_trace(go.Histogram(x=data_all_target.dropna(subset=['depth_route_3'], how='all')[rank_col], \n",
    "                           nbinsx=nbinsx, name='route_3'))\n",
    "\n",
    "fig.update_traces(opacity=0.75)\n",
    "fig.update_layout(barmode='group', width=1000, height=600)\n",
    "# fig.update_xaxes(type=\"log\", range=[0,np.log(max_rank)])\n",
    "fig.write_image(f\"{output_folder}/{distance_to_consider}_rank_in_route_1_2_3.pdf\") \n",
    "time.sleep(10)\n",
    "fig.write_image(f\"{output_folder}/{distance_to_consider}_rank_in_route_1_2_3.pdf\") \n",
    "fig.show()\n"
   ]
  },
  {
   "cell_type": "code",
   "execution_count": null,
   "id": "33d4469d",
   "metadata": {},
   "outputs": [],
   "source": [
    "nbinsx = 100\n",
    "fig = go.Figure()\n",
    "fig.add_trace(go.Histogram(x=data_all_target.dropna(subset=['depth_route_1'], how='all')[rank_col], \n",
    "                           nbinsx=nbinsx, name='route_1'))\n",
    "# fig.add_trace(go.Histogram(x=data_target_sorted_to_plot.dropna(subset=['depth_route_2'], how='all')[rank_col], \n",
    "#                            nbinsx=nbinsx, name='route_2'))\n",
    "# fig.add_trace(go.Histogram(x=data_target_sorted_to_plot.dropna(subset=['depth_route_3'], how='all')[rank_col], \n",
    "#                            nbinsx=nbinsx, name='route_3'))\n",
    "\n",
    "fig.update_traces(opacity=0.75)\n",
    "# fig.update_layout(barmode='group')\n",
    "# fig.update_xaxes(type=\"log\", range=[0,np.log(max_rank)])\n",
    "fig.update_xaxes(title='Purchasable molecule rank according to distance from target. Ranges between 1 and dim_inventory (i.e. 13325).')\n",
    "# fig.update_yaxes(visible=False)\n",
    "fig.update_layout(title=\"Rank of purchasable molecules in routes, according to distance to the target\")\n",
    "fig.update_layout(showlegend=True, width=1000, height=600)\n",
    "fig.write_image(f\"{output_folder}/{distance_to_consider}_rank_in_route_1.pdf\") \n",
    "time.sleep(10)\n",
    "fig.write_image(f\"{output_folder}/{distance_to_consider}_rank_in_route_1.pdf\")\n",
    "fig.show()\n",
    "\n"
   ]
  },
  {
   "cell_type": "code",
   "execution_count": null,
   "id": "7a15cf58",
   "metadata": {},
   "outputs": [],
   "source": []
  },
  {
   "cell_type": "markdown",
   "id": "60a4efe4",
   "metadata": {},
   "source": [
    "## Split by depth"
   ]
  },
  {
   "cell_type": "code",
   "execution_count": null,
   "id": "3c063a7e",
   "metadata": {},
   "outputs": [],
   "source": [
    "# # nbinsx = 100\n",
    "\n",
    "# import plotly.express as px\n",
    "# df = px.data.tips()\n",
    "# fig = px.histogram(data_all_target.dropna(subset=['depth_route_1'], how='all').sort_values('depth_route_1'), \n",
    "#                    x=\"distance_to_target_rank\", color=\"depth_route_1\", opacity=0.7, \n",
    "#                    marginal=\"rug\", # can be `box`, `violin`\n",
    "#                          hover_data=data_all_target.columns)\n",
    "\n",
    "# # fig = go.Figure()\n",
    "# # fig.add_trace(go.Histogram(x=data_all_target.dropna(subset=['depth_route_1'], how='all')['distance_to_target_rank'], \n",
    "# #                            nbinsx=nbinsx, name='route_1'))\n",
    "# # # fig.add_trace(go.Histogram(x=data_target_sorted_to_plot.dropna(subset=['depth_route_2'], how='all')['distance_to_target_rank'], \n",
    "# # #                            nbinsx=nbinsx, name='route_2'))\n",
    "# # # fig.add_trace(go.Histogram(x=data_target_sorted_to_plot.dropna(subset=['depth_route_3'], how='all')['distance_to_target_rank'], \n",
    "# # #                            nbinsx=nbinsx, name='route_3'))\n",
    "\n",
    "# # fig.update_traces(opacity=0.75)\n",
    "# # fig.update_layout(barmode='group')\n",
    "# # fig.update_xaxes(type=\"log\", range=[0,np.log(max_rank)])\n",
    "# fig.update_xaxes(title='Purchasable molecule rank according to distance from target. Ranges between 1 and dim_inventory (i.e. 13325).')\n",
    "# # fig.update_yaxes(visible=False)\n",
    "# fig.update_layout(title=\"Rank of purchasable molecules in routes, according to distance to the target\")\n",
    "# fig.update_layout(showlegend=True)\n",
    "# fig.show()\n",
    "\n",
    "\n"
   ]
  },
  {
   "cell_type": "code",
   "execution_count": null,
   "id": "e00a0682",
   "metadata": {},
   "outputs": [],
   "source": [
    "# nbinsx = 100\n",
    "\n",
    "fig = px.histogram(data_all_target.dropna(subset=['depth_route_1'], how='all').sort_values('depth_route_1'), \n",
    "                   x=rank_col, color=\"depth_route_1\",\n",
    "                   marginal=\"box\", # can be 'rug' `box`, `violin`\n",
    "                         hover_data=data_all_target.columns)\n",
    "\n",
    "# fig = go.Figure()\n",
    "# fig.add_trace(go.Histogram(x=data_all_target.dropna(subset=['depth_route_1'], how='all')['distance_to_target_rank'], \n",
    "#                            nbinsx=nbinsx, name='route_1'))\n",
    "# # fig.add_trace(go.Histogram(x=data_target_sorted_to_plot.dropna(subset=['depth_route_2'], how='all')['distance_to_target_rank'], \n",
    "# #                            nbinsx=nbinsx, name='route_2'))\n",
    "# # fig.add_trace(go.Histogram(x=data_target_sorted_to_plot.dropna(subset=['depth_route_3'], how='all')['distance_to_target_rank'], \n",
    "# #                            nbinsx=nbinsx, name='route_3'))\n",
    "\n",
    "# fig.update_traces(opacity=0.75)\n",
    "fig.update_layout(\n",
    "    dict(\n",
    "        barmode='stack', \n",
    "        showlegend=True,\n",
    "        title=\"Rank of purchasable molecules in routes, according to distance to the target - Split by depth\",\n",
    "        width=1000, height=600\n",
    "    ))\n",
    "# fig.update_xaxes(type=\"log\", range=[0,np.log(max_rank)])\n",
    "fig.update_xaxes(title='Purchasable molecule rank according to distance from target. Ranges between 1 and dim_inventory (i.e. 13325).',row=1, col=1)\n",
    "fig.update_yaxes(title='Number of molecules',row=1, col=1)\n",
    "# fig.update_yaxes(type=\"log\")\n",
    "# fig.update_layout(title=\"Rank of purchasable molecules in routes, according to distance to the target\")\n",
    "# fig.update_layout(showlegend=True)\n",
    "fig.update_layout(legend=dict(\n",
    "    title=\"Depth in route1\",\n",
    "))\n",
    "fig.write_image(f\"{output_folder}/{distance_to_consider}_rank_in_route_1_split_depth.pdf\") \n",
    "time.sleep(10)\n",
    "fig.write_image(f\"{output_folder}/{distance_to_consider}_rank_in_route_1_split_depth.pdf\") \n",
    "fig.show()\n",
    "\n",
    "\n",
    "\n"
   ]
  },
  {
   "cell_type": "markdown",
   "id": "30003c3d",
   "metadata": {},
   "source": [
    "## Split by complexity"
   ]
  },
  {
   "cell_type": "code",
   "execution_count": null,
   "id": "cd07b963",
   "metadata": {},
   "outputs": [],
   "source": []
  },
  {
   "cell_type": "code",
   "execution_count": null,
   "id": "b921eaf7",
   "metadata": {},
   "outputs": [],
   "source": [
    "# nbinsx = 100\n",
    "\n",
    "fig = px.histogram(data_all_target.dropna(subset=['depth_route_1'], how='all').sort_values('smiles_nr_explicit_atoms_(binned)'), \n",
    "                   x=rank_col, color=\"smiles_nr_explicit_atoms_(binned)\",\n",
    "                   marginal=\"box\", # can be 'rug' `box`, `violin`\n",
    "                         hover_data=data_all_target.columns)\n",
    "\n",
    "# fig = go.Figure()\n",
    "# fig.add_trace(go.Histogram(x=data_all_target.dropna(subset=['depth_route_1'], how='all')['distance_to_target_rank'], \n",
    "#                            nbinsx=nbinsx, name='route_1'))\n",
    "# # fig.add_trace(go.Histogram(x=data_target_sorted_to_plot.dropna(subset=['depth_route_2'], how='all')['distance_to_target_rank'], \n",
    "# #                            nbinsx=nbinsx, name='route_2'))\n",
    "# # fig.add_trace(go.Histogram(x=data_target_sorted_to_plot.dropna(subset=['depth_route_3'], how='all')['distance_to_target_rank'], \n",
    "# #                            nbinsx=nbinsx, name='route_3'))\n",
    "\n",
    "# fig.update_traces(opacity=0.75)\n",
    "fig.update_layout(\n",
    "    dict(\n",
    "        barmode='stack', \n",
    "        showlegend=True,\n",
    "        title=\"Rank of purchasable molecules in routes, according to distance to the target - Split by complexity\",\n",
    "        width=1000, height=600\n",
    "    ))\n",
    "# fig.update_xaxes(type=\"log\", range=[0,np.log(max_rank)])\n",
    "fig.update_xaxes(title='Purchasable molecule rank according to distance from target. Ranges between 1 and dim_inventory (i.e. 13325).',row=1, col=1)\n",
    "fig.update_yaxes(title='Number of molecules',row=1, col=1)\n",
    "# fig.update_yaxes(type=\"log\")\n",
    "# fig.update_layout(title=\"Rank of purchasable molecules in routes, according to distance to the target\")\n",
    "# fig.update_layout(showlegend=True)\n",
    "fig.update_layout(legend=dict(\n",
    "    title=\"Nr explicit atoms\"\n",
    "    \n",
    "))\n",
    "\n",
    "fig.write_image(f\"{output_folder}/{distance_to_consider}_rank_in_route_1_split_complex.pdf\")\n",
    "time.sleep(10) \n",
    "fig.write_image(f\"{output_folder}/{distance_to_consider}_rank_in_route_1_split_complex.pdf\")\n",
    "fig.show()\n",
    "\n",
    "\n"
   ]
  },
  {
   "cell_type": "code",
   "execution_count": null,
   "id": "afc05452",
   "metadata": {},
   "outputs": [],
   "source": []
  },
  {
   "cell_type": "code",
   "execution_count": null,
   "id": "3ed4535b",
   "metadata": {},
   "outputs": [],
   "source": [
    "# np.log(max_rank)"
   ]
  },
  {
   "cell_type": "code",
   "execution_count": null,
   "id": "18dfae26",
   "metadata": {},
   "outputs": [],
   "source": [
    "# data_target_sorted['depth_route_3'].dropna()"
   ]
  },
  {
   "cell_type": "code",
   "execution_count": null,
   "id": "2d7ccb9c",
   "metadata": {},
   "outputs": [],
   "source": []
  },
  {
   "cell_type": "code",
   "execution_count": null,
   "id": "cc8f29ae",
   "metadata": {},
   "outputs": [],
   "source": []
  },
  {
   "cell_type": "code",
   "execution_count": null,
   "id": "8010a184",
   "metadata": {},
   "outputs": [],
   "source": []
  }
 ],
 "metadata": {
  "kernelspec": {
   "display_name": "Python 3 (ipykernel)",
   "language": "python",
   "name": "python3"
  },
  "language_info": {
   "codemirror_mode": {
    "name": "ipython",
    "version": 3
   },
   "file_extension": ".py",
   "mimetype": "text/x-python",
   "name": "python",
   "nbconvert_exporter": "python",
   "pygments_lexer": "ipython3",
   "version": "3.10.8"
  }
 },
 "nbformat": 4,
 "nbformat_minor": 5
}
