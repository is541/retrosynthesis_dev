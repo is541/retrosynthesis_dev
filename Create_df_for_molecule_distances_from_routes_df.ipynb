{
 "cells": [
  {
   "cell_type": "code",
   "execution_count": null,
   "id": "654a6f69",
   "metadata": {},
   "outputs": [],
   "source": [
    "import pandas as pd\n",
    "\n",
    "from paroutes import PaRoutesInventory\n",
    "from rdkit.Chem import DataStructs, AllChem\n",
    "\n",
    "import pickle\n",
    "import numpy as np"
   ]
  },
  {
   "cell_type": "code",
   "execution_count": null,
   "id": "862f8a7f",
   "metadata": {},
   "outputs": [],
   "source": [
    "output_file_routes = 'graphs/targ_routes.pickle'\n",
    "output_file_distances = 'graphs/targ_to_purch_distances.pickle'"
   ]
  },
  {
   "cell_type": "markdown",
   "id": "0b54721b",
   "metadata": {},
   "source": [
    "## Read input file"
   ]
  },
  {
   "cell_type": "code",
   "execution_count": null,
   "id": "29a1c9e4",
   "metadata": {},
   "outputs": [],
   "source": [
    "# Routes dataframe\n",
    "input_file = f\"graphs/output_df.csv\"\n",
    "routes_df = pd.read_csv(input_file)\n",
    "\n",
    "\n",
    "# Inventory\n",
    "inventory=PaRoutesInventory(n=5)\n"
   ]
  },
  {
   "cell_type": "markdown",
   "id": "816114c2",
   "metadata": {},
   "source": [
    "## Create dataframe"
   ]
  },
  {
   "cell_type": "code",
   "execution_count": null,
   "id": "ebe43191",
   "metadata": {},
   "outputs": [],
   "source": [
    "purch_smiles = [mol.smiles for mol in inventory.purchasable_mols()]\n",
    "len(purch_smiles)\n"
   ]
  },
  {
   "cell_type": "code",
   "execution_count": null,
   "id": "8dc903c0",
   "metadata": {},
   "outputs": [],
   "source": [
    "target_smiles = routes_df['target_smiles'].unique()\n",
    "cols_to_keep_renamed = {\n",
    "    'route_rank': 'label',\n",
    "    'intermediate_smiles': 'smiles',\n",
    "    'intermediate_depth': 'depth',\n",
    "}\n",
    "\n",
    "def fingerprint_from_smiles(mol_smiles):\n",
    "    return AllChem.GetMorganFingerprint(AllChem.MolFromSmiles(mol_smiles), radius=3)\n",
    "\n",
    "# Save 2 separate data dict: one with distances and rank (for every target), \n",
    "# one with sets of purchasable molecules, plus distance and rank (for every target)\n",
    "\n",
    "# Create distances dfs\n",
    "distances_df_dict = {}\n",
    "routes_data_dict = {}\n",
    "for target in target_smiles:\n",
    "    # 1 - Distances dfs\n",
    "    # Compute distances\n",
    "    target_fingerprint = fingerprint_from_smiles(target)\n",
    "    purch_fingerprints = list(map(fingerprint_from_smiles, purch_smiles))\n",
    "    purch_target_distance = [1 - sim for sim in DataStructs.BulkTanimotoSimilarity(target_fingerprint, purch_fingerprints)]\n",
    "    distance_df = pd.DataFrame({'smiles': purch_smiles, 'Tanimoto_distance_from_target':purch_target_distance})\n",
    "    \n",
    "    # Add rank\n",
    "    distance_df_sorted = distance_df.sort_values(['Tanimoto_distance_from_target', 'smiles'], ascending=True).reset_index(drop=True)\n",
    "    distance_df_sorted['distance_to_target_rank'] = distance_df_sorted.index +1    \n",
    "    \n",
    "    distances_df_dict[target] = distance_df_sorted\n",
    "    \n",
    "    # 2 - Routes df\n",
    "    target_df = routes_df.loc[routes_df['target_smiles']==target]\n",
    "    routes_data_dict[target] = {}\n",
    "    \n",
    "    for route_rank in target_df['route_rank'].dropna().unique():\n",
    "        target_route_df =  target_df.loc[((target_df['intermediate_is_purchasable']) | \n",
    "                                          (target_df['intermediate_smiles']==target)) & \n",
    "                                         (target_df['route_rank']==route_rank), \n",
    "                                         cols_to_keep_renamed.keys()].drop_duplicates()\n",
    "        route_name = 'route_' + str(int(route_rank))\n",
    "        target_route_df['route_rank'] = route_name\n",
    "#         target_route_df['route_rank'] = 'route_' + target_route_df['route_rank'].astype(int).astype(str)\n",
    "        \n",
    "        target_route_df = target_route_df.rename(columns=cols_to_keep_renamed)\n",
    "        \n",
    "        target_route_df = pd.merge(target_route_df, distance_df_sorted, how='left', on='smiles')\n",
    "        \n",
    "        target_mask = target_route_df['smiles']==target\n",
    "        target_route_df.loc[target_mask, 'label'] = 'Target'\n",
    "        target_route_df.loc[target_mask, 'Tanimoto_distance_from_target'] = 0\n",
    "        \n",
    "        routes_data_dict[target].update({route_name: target_route_df})\n",
    "    \n",
    "    "
   ]
  },
  {
   "cell_type": "code",
   "execution_count": null,
   "id": "41fcdbd2",
   "metadata": {},
   "outputs": [],
   "source": [
    "routes_data_dict['CCc1cc2nncc(N3CCc4[nH]nc(C(=O)NC5CC5)c4C3)c2cc1OC']"
   ]
  },
  {
   "cell_type": "code",
   "execution_count": null,
   "id": "33103e2d",
   "metadata": {},
   "outputs": [],
   "source": [
    "with open(output_file_routes, 'wb') as handle:\n",
    "    pickle.dump(routes_data_dict, handle, protocol=pickle.HIGHEST_PROTOCOL)\n",
    "\n",
    "\n",
    "with open(output_file_distances, 'wb') as handle:\n",
    "    pickle.dump(distances_df_dict, handle, protocol=pickle.HIGHEST_PROTOCOL)\n",
    "\n",
    "\n",
    "\n"
   ]
  },
  {
   "cell_type": "code",
   "execution_count": null,
   "id": "f88a54c0",
   "metadata": {},
   "outputs": [],
   "source": [
    "# data_dict.keys()"
   ]
  },
  {
   "cell_type": "code",
   "execution_count": null,
   "id": "07c80f1a",
   "metadata": {},
   "outputs": [],
   "source": [
    "# data_dict['CCc1cc2nncc(N3CCc4[nH]nc(C(=O)NC5CC5)c4C3)c2cc1OC']['route_1']['label'].unique()"
   ]
  },
  {
   "cell_type": "code",
   "execution_count": null,
   "id": "c32412fe",
   "metadata": {},
   "outputs": [],
   "source": []
  }
 ],
 "metadata": {
  "kernelspec": {
   "display_name": "Python 3 (ipykernel)",
   "language": "python",
   "name": "python3"
  },
  "language_info": {
   "codemirror_mode": {
    "name": "ipython",
    "version": 3
   },
   "file_extension": ".py",
   "mimetype": "text/x-python",
   "name": "python",
   "nbconvert_exporter": "python",
   "pygments_lexer": "ipython3",
   "version": "3.10.8"
  }
 },
 "nbformat": 4,
 "nbformat_minor": 5
}
