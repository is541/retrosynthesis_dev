{
 "cells": [
  {
   "cell_type": "code",
   "execution_count": 1,
   "id": "5825423b",
   "metadata": {},
   "outputs": [],
   "source": [
    "import math\n",
    "import random\n",
    "import plotly.graph_objects as go\n",
    "# import plotly.offline as pyo\n",
    "# pyo.init_notebook_mode()\n",
    "import pickle\n",
    "import pandas as pd\n",
    "import numpy as np\n",
    "from tqdm import tqdm\n",
    "from rdkit import Chem\n",
    "import os"
   ]
  },
  {
   "cell_type": "code",
   "execution_count": null,
   "id": "40cc2514",
   "metadata": {},
   "outputs": [],
   "source": []
  },
  {
   "cell_type": "code",
   "execution_count": null,
   "id": "9c89e710",
   "metadata": {},
   "outputs": [],
   "source": []
  },
  {
   "cell_type": "code",
   "execution_count": 2,
   "id": "0eb8468d",
   "metadata": {},
   "outputs": [],
   "source": [
    "\n",
    "\n",
    "run_id = '202305-2911-2320-5a95df0e-3008-4ebe-acd8-ecb3b50607c7'\n",
    "# input_file = f'Runs/{run_id}/routes_df.csv'\n",
    "# routes_df = pd.read_csv(input_file)\n",
    "\n",
    "input_file_routes = f'Runs/{run_id}/targ_routes.pickle'\n",
    "input_file_distances = f'Runs/{run_id}/targ_to_purch_distances.pickle'\n",
    "\n",
    "with open(input_file_routes, 'rb') as handle:\n",
    "    targ_routes_dict = pickle.load(handle)\n",
    "    \n",
    "# Load distances data\n",
    "with open(input_file_distances, 'rb') as handle:\n",
    "    distances_dict = pickle.load(handle)\n",
    "\n",
    "\n",
    "\n",
    "img_size = 800\n",
    "\n"
   ]
  },
  {
   "cell_type": "code",
   "execution_count": 3,
   "id": "a34fca2e",
   "metadata": {},
   "outputs": [],
   "source": [
    "nr_targets = 10\n",
    "seed= 42\n",
    "random.seed(seed)\n",
    "sample_targets = random.sample(list(targ_routes_dict.keys()), nr_targets)\n",
    "sample_targets = [x for x in sample_targets if \"/\" not in x]\n",
    "sample_targets = [\n",
    "#     \"FC(F)(F)c1csc(Nc2cc3ccccc3cn2)n1\", # Sample 2 step route\n",
    "    \"CS(=O)(=O)Cc1cccc2c(C(c3ccc(Cl)cc3F)C3CC3C#N)c[nH]c12\", # Example for building tree\n",
    "    \"O=C(NCCc1ccc(Cl)cc1C1CC1)c1ccc(Oc2cc3c(cc2Cl)C(C(=O)O)CCO3)cc1\", # Sample 3 step route\n",
    "    \"C=CC(OCOC)c1ccc(N(c2cc3oc(-c4ccc(F)cc4)c(C(=O)NC)c3cc2C2CC2)S(C)(=O)=O)cc1Cl\", # Sample 3 step route - complex end\n",
    "    \n",
    "] + sample_targets"
   ]
  },
  {
   "cell_type": "code",
   "execution_count": 4,
   "id": "32853f57",
   "metadata": {},
   "outputs": [
    {
     "data": {
      "text/plain": [
       "['CS(=O)(=O)Cc1cccc2c(C(c3ccc(Cl)cc3F)C3CC3C#N)c[nH]c12',\n",
       " 'O=C(NCCc1ccc(Cl)cc1C1CC1)c1ccc(Oc2cc3c(cc2Cl)C(C(=O)O)CCO3)cc1',\n",
       " 'C=CC(OCOC)c1ccc(N(c2cc3oc(-c4ccc(F)cc4)c(C(=O)NC)c3cc2C2CC2)S(C)(=O)=O)cc1Cl',\n",
       " 'Brc1cc(I)sc1-c1nnc[nH]1',\n",
       " 'COc1ccc2nc(-c3ccc(C)c(NC(=O)C(C)(C)C)c3)c(-c3ccc(F)cc3)n2n1',\n",
       " 'CCOC(=O)Cc1ccc(Oc2ccc3ncccc3c2N)c(OC)c1',\n",
       " 'CCCc1c(Cc2ccc(-c3ccccc3-c3noc(=O)[nH]3)cc2)c(=O)n(C2CCC(=CCO)CC2)c2ncnn12',\n",
       " 'Cc1cn2cc(Br)cc(S(N)(=O)=O)c2n1',\n",
       " 'CC(C)N1CCN(C(CN2CCN(CCCc3ccccc3-c3ccccc3)CC2)c2ccc(F)cc2)CC1',\n",
       " 'COCC[C@H](Oc1ncnc2c1cnn2-c1ncccc1Cl)C(=O)Nc1ccc(C)cn1',\n",
       " 'CCCCCNc1nc(N)nc(C)c1Cc1ccc(OCCN(C)C)cc1',\n",
       " 'Cc1ccc(NS(=O)(=O)Nc2ncnc(OCCOc3ncc(Br)cn3)c2-c2ccc(C)cc2)cc1']"
      ]
     },
     "execution_count": 4,
     "metadata": {},
     "output_type": "execute_result"
    }
   ],
   "source": [
    "sample_targets"
   ]
  },
  {
   "cell_type": "code",
   "execution_count": 5,
   "id": "be3f0584",
   "metadata": {},
   "outputs": [
    {
     "name": "stderr",
     "output_type": "stream",
     "text": [
      "\r",
      "  0%|                                                                                               | 0/12 [00:00<?, ?it/s]"
     ]
    },
    {
     "name": "stdout",
     "output_type": "stream",
     "text": [
      "CS(=O)(=O)Cc1cccc2c(C(c3ccc(Cl)cc3F)C3CC3C#N)c[nH]c12\n"
     ]
    },
    {
     "name": "stderr",
     "output_type": "stream",
     "text": [
      "\r",
      "  8%|███████▎                                                                               | 1/12 [00:00<00:08,  1.23it/s]"
     ]
    },
    {
     "name": "stdout",
     "output_type": "stream",
     "text": [
      "O=C(NCCc1ccc(Cl)cc1C1CC1)c1ccc(Oc2cc3c(cc2Cl)C(C(=O)O)CCO3)cc1\n"
     ]
    },
    {
     "name": "stderr",
     "output_type": "stream",
     "text": [
      "\r",
      " 17%|██████████████▌                                                                        | 2/12 [00:01<00:07,  1.29it/s]"
     ]
    },
    {
     "name": "stdout",
     "output_type": "stream",
     "text": [
      "C=CC(OCOC)c1ccc(N(c2cc3oc(-c4ccc(F)cc4)c(C(=O)NC)c3cc2C2CC2)S(C)(=O)=O)cc1Cl\n"
     ]
    },
    {
     "name": "stderr",
     "output_type": "stream",
     "text": [
      "\r",
      " 25%|█████████████████████▊                                                                 | 3/12 [00:02<00:06,  1.29it/s]"
     ]
    },
    {
     "name": "stdout",
     "output_type": "stream",
     "text": [
      "Brc1cc(I)sc1-c1nnc[nH]1\n"
     ]
    },
    {
     "name": "stderr",
     "output_type": "stream",
     "text": [
      "\r",
      " 33%|█████████████████████████████                                                          | 4/12 [00:03<00:06,  1.31it/s]"
     ]
    },
    {
     "name": "stdout",
     "output_type": "stream",
     "text": [
      "COc1ccc2nc(-c3ccc(C)c(NC(=O)C(C)(C)C)c3)c(-c3ccc(F)cc3)n2n1\n"
     ]
    },
    {
     "name": "stderr",
     "output_type": "stream",
     "text": [
      "\r",
      " 42%|████████████████████████████████████▎                                                  | 5/12 [00:03<00:05,  1.28it/s]"
     ]
    },
    {
     "name": "stdout",
     "output_type": "stream",
     "text": [
      "CCOC(=O)Cc1ccc(Oc2ccc3ncccc3c2N)c(OC)c1\n"
     ]
    },
    {
     "name": "stderr",
     "output_type": "stream",
     "text": [
      "\r",
      " 50%|███████████████████████████████████████████▌                                           | 6/12 [00:04<00:04,  1.31it/s]"
     ]
    },
    {
     "name": "stdout",
     "output_type": "stream",
     "text": [
      "CCCc1c(Cc2ccc(-c3ccccc3-c3noc(=O)[nH]3)cc2)c(=O)n(C2CCC(=CCO)CC2)c2ncnn12\n"
     ]
    },
    {
     "name": "stderr",
     "output_type": "stream",
     "text": [
      "\r",
      " 58%|██████████████████████████████████████████████████▊                                    | 7/12 [00:05<00:03,  1.27it/s]"
     ]
    },
    {
     "name": "stdout",
     "output_type": "stream",
     "text": [
      "Cc1cn2cc(Br)cc(S(N)(=O)=O)c2n1\n"
     ]
    },
    {
     "name": "stderr",
     "output_type": "stream",
     "text": [
      "\r",
      " 67%|██████████████████████████████████████████████████████████                             | 8/12 [00:06<00:03,  1.30it/s]"
     ]
    },
    {
     "name": "stdout",
     "output_type": "stream",
     "text": [
      "CC(C)N1CCN(C(CN2CCN(CCCc3ccccc3-c3ccccc3)CC2)c2ccc(F)cc2)CC1\n"
     ]
    },
    {
     "name": "stderr",
     "output_type": "stream",
     "text": [
      "\r",
      " 75%|█████████████████████████████████████████████████████████████████▎                     | 9/12 [00:06<00:02,  1.30it/s]"
     ]
    },
    {
     "name": "stdout",
     "output_type": "stream",
     "text": [
      "COCC[C@H](Oc1ncnc2c1cnn2-c1ncccc1Cl)C(=O)Nc1ccc(C)cn1\n"
     ]
    },
    {
     "name": "stderr",
     "output_type": "stream",
     "text": [
      "\r",
      " 83%|███████████████████████████████████████████████████████████████████████▋              | 10/12 [00:07<00:01,  1.31it/s]"
     ]
    },
    {
     "name": "stdout",
     "output_type": "stream",
     "text": [
      "CCCCCNc1nc(N)nc(C)c1Cc1ccc(OCCN(C)C)cc1\n"
     ]
    },
    {
     "name": "stderr",
     "output_type": "stream",
     "text": [
      "\r",
      " 92%|██████████████████████████████████████████████████████████████████████████████▊       | 11/12 [00:08<00:00,  1.32it/s]"
     ]
    },
    {
     "name": "stdout",
     "output_type": "stream",
     "text": [
      "Cc1ccc(NS(=O)(=O)Nc2ncnc(OCCOc3ncc(Br)cn3)c2-c2ccc(C)cc2)cc1\n"
     ]
    },
    {
     "name": "stderr",
     "output_type": "stream",
     "text": [
      "100%|██████████████████████████████████████████████████████████████████████████████████████| 12/12 [00:09<00:00,  1.30it/s]\n"
     ]
    }
   ],
   "source": [
    "\n",
    "for sample_target in tqdm(sample_targets):\n",
    "    output_folder = f\"{sample_target}.jpg\"\n",
    "    output_folder = f\"Plots/{run_id}/{sample_target}\"\n",
    "\n",
    "    if not os.path.exists(output_folder):\n",
    "        os.makedirs(output_folder)\n",
    "    \n",
    "    print(sample_target)\n",
    "    sample_routes = targ_routes_dict[sample_target][\"route_1\"].sort_values('depth')\n",
    "#     print(sample_routes)\n",
    "    sample_distances = distances_dict[sample_target]\n",
    "#     print(sample_distances)\n",
    "    \n",
    "    sample_routes_with_dist = pd.merge(sample_routes[[\"label\", \"smiles\", \"depth\"]],sample_distances,on='smiles', how='outer')\n",
    "    sample_routes_with_dist[\"label\"] = sample_routes_with_dist[\"label\"].fillna('not_in_route')\n",
    "    sample_routes_with_dist.loc[sample_routes_with_dist['label']=='Target','distance_to_target_rank'] = 0\n",
    "    sample_routes_with_dist = sample_routes_with_dist.sort_values('distance_to_target_rank').reset_index()\n",
    "#     print(sample_routes_with_dist)\n",
    "    \n",
    "    # 1. Plot target\n",
    "    target_mol = Chem.MolFromSmiles(sample_target)\n",
    "    fig_target = Chem.Draw.MolToImage(\n",
    "        target_mol, \n",
    "        size=(img_size, img_size), \n",
    "        kekulize=True, \n",
    "        wedgeBonds=True, \n",
    "        fitImage=False, \n",
    "        options=None, \n",
    "        canvas=None\n",
    "    )\n",
    "#     fig_target.show()\n",
    "    fig_target = fig_target.save(f\"{output_folder}/target.jpg\")\n",
    "    \n",
    "    # 2. Plot molecules in route\n",
    "    molecules_in_route = [Chem.MolFromSmiles(x) for x in sample_routes['smiles']]\n",
    "\n",
    "    fig_mol_in_route = Chem.Draw.MolsToGridImage(\n",
    "        mols=molecules_in_route, \n",
    "        molsPerRow=3, \n",
    "        subImgSize=(img_size, img_size), \n",
    "        legends=list(\"Depth: \" + sample_routes['depth'].astype(str) + \"\\n\" + \n",
    "                     \"Rank: \" + sample_routes['distance_to_target_rank'].round(0).astype(str)  + \"\\n\" + \n",
    "                     \"Distance: \" + sample_routes['Tanimoto_distance_from_target'].round(3).astype(str)), \n",
    "        highlightAtomLists=None, \n",
    "        highlightBondLists=None, \n",
    "        useSVG=False, \n",
    "        returnPNG=False\n",
    "    )\n",
    "    fig_mol_in_route = fig_mol_in_route.save(f\"{output_folder}/mol_in_route.jpg\")\n",
    "    \n",
    "    # 3. Plot closest\n",
    "    mols_to_plot = 11\n",
    "    df_to_plot = sample_routes_with_dist.head(mols_to_plot)\n",
    "\n",
    "    molecules_closest = [Chem.MolFromSmiles(x) for x in df_to_plot['smiles']]\n",
    "\n",
    "    fig_mol_closest = Chem.Draw.MolsToGridImage(\n",
    "        mols=molecules_closest, \n",
    "        molsPerRow=3, \n",
    "        subImgSize=(img_size, img_size), \n",
    "        legends=list(\"Rank: \" + df_to_plot['distance_to_target_rank'].astype(str) + \"\\n\" + \n",
    "                     df_to_plot['label'].astype(str)), \n",
    "        highlightAtomLists=None, \n",
    "        highlightBondLists=None, \n",
    "        useSVG=False, \n",
    "        returnPNG=False\n",
    "    )\n",
    "    fig_mol_closest = fig_mol_closest.save(f\"{output_folder}/mol_closest_{mols_to_plot-1}.jpg\")\n",
    "    \n",
    "    # 4. Plot quantiles\n",
    "    # Close\n",
    "    df_to_plot = sample_routes_with_dist.loc[[1,2,3],:]\n",
    "\n",
    "    molecules_close = [Chem.MolFromSmiles(x) for x in df_to_plot['smiles']]\n",
    "\n",
    "    fig_mol_close = Chem.Draw.MolsToGridImage(\n",
    "        mols=molecules_close, \n",
    "        molsPerRow=3, \n",
    "        subImgSize=(img_size, img_size), \n",
    "        legends=list(\"Rank: \" + df_to_plot['distance_to_target_rank'].astype(int).astype(str) + \"\\n\" + \n",
    "                     df_to_plot['label'].astype(str)), \n",
    "        highlightAtomLists=None, \n",
    "        highlightBondLists=None, \n",
    "        useSVG=False, \n",
    "        returnPNG=False\n",
    "    )\n",
    "    fig_mol_close = fig_mol_close.save(f\"{output_folder}/mol_3_close.jpg\")\n",
    "    \n",
    "    # Mid\n",
    "    nr_rows = len(sample_routes_with_dist.index)\n",
    "    mid_index = int(np.round(nr_rows/2))\n",
    "\n",
    "    df_to_plot = sample_routes_with_dist.loc[[mid_index-4,mid_index,mid_index+5],:]\n",
    "\n",
    "    molecules_mid = [Chem.MolFromSmiles(x) for x in df_to_plot['smiles']]\n",
    "\n",
    "    fig_mol_mid = Chem.Draw.MolsToGridImage(\n",
    "        mols=molecules_mid, \n",
    "        molsPerRow=3, \n",
    "        subImgSize=(img_size, img_size), \n",
    "        legends=list(\"Rank: \" + df_to_plot['distance_to_target_rank'].astype(int).astype(str)  + \"\\n\" + \n",
    "                     df_to_plot['label'].astype(str)), \n",
    "        highlightAtomLists=None, \n",
    "        highlightBondLists=None, \n",
    "        useSVG=False, \n",
    "        returnPNG=False\n",
    "    )\n",
    "    fig_mol_mid = fig_mol_mid.save(f\"{output_folder}/mol_3_mid.jpg\")\n",
    "    \n",
    "    # Far\n",
    "    df_to_plot = sample_routes_with_dist.tail(3)\n",
    "\n",
    "    molecules_far = [Chem.MolFromSmiles(x) for x in df_to_plot['smiles']]\n",
    "\n",
    "    fig_mol_far = Chem.Draw.MolsToGridImage(\n",
    "        mols=molecules_far, \n",
    "        molsPerRow=3, \n",
    "        subImgSize=(img_size, img_size), \n",
    "        legends=list(\"Rank: \" + df_to_plot['distance_to_target_rank'].astype(int).astype(str)  + \"\\n\" + \n",
    "                     df_to_plot['label'].astype(str)), \n",
    "        highlightAtomLists=None, \n",
    "        highlightBondLists=None, \n",
    "        useSVG=False, \n",
    "        returnPNG=False\n",
    "    )\n",
    "    fig_mol_far = fig_mol_far.save(f\"{output_folder}/mol_3_far.jpg\")\n",
    "\n"
   ]
  },
  {
   "cell_type": "code",
   "execution_count": null,
   "id": "0c2c39b5",
   "metadata": {},
   "outputs": [],
   "source": []
  },
  {
   "cell_type": "code",
   "execution_count": null,
   "id": "437c8db5",
   "metadata": {},
   "outputs": [],
   "source": []
  },
  {
   "cell_type": "code",
   "execution_count": null,
   "id": "3beea020",
   "metadata": {},
   "outputs": [],
   "source": []
  }
 ],
 "metadata": {
  "kernelspec": {
   "display_name": "Python 3 (ipykernel)",
   "language": "python",
   "name": "python3"
  },
  "language_info": {
   "codemirror_mode": {
    "name": "ipython",
    "version": 3
   },
   "file_extension": ".py",
   "mimetype": "text/x-python",
   "name": "python",
   "nbconvert_exporter": "python",
   "pygments_lexer": "ipython3",
   "version": "3.10.8"
  }
 },
 "nbformat": 4,
 "nbformat_minor": 5
}
