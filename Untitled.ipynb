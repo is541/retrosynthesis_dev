{
 "cells": [
  {
   "cell_type": "code",
   "execution_count": 2,
   "id": "6f5014c8",
   "metadata": {},
   "outputs": [],
   "source": [
    "import pickle\n",
    "import os\n",
    "from tqdm.auto import tqdm\n",
    "from syntheseus.search.graph.message_passing import run_message_passing\n",
    "from syntheseus.search.analysis.tree_solution_counting import num_solutions_update\n",
    "\n",
    "# from syntheseus.search.analysis.route_extraction import min_cost_routes\n",
    "from syntheseus.search.graph.and_or import OrNode, AndNode\n",
    "from syntheseus.search.analysis.route_extraction import (\n",
    "    _iter_top_routes,\n",
    "    _min_route_cost,\n",
    "    _min_route_partial_cost,\n",
    ")\n",
    "import numpy as np\n",
    "import pandas as pd"
   ]
  },
  {
   "cell_type": "code",
   "execution_count": 7,
   "id": "d83826d4",
   "metadata": {},
   "outputs": [],
   "source": [
    "dataset_str = 'paroutes'\n",
    "# PAROUTES or GUACAMOL\n",
    "if dataset_str=='paroutes':\n",
    "    run_id = \"202305-2911-2320-5a95df0e-3008-4ebe-acd8-ecb3b50607c7\"\n",
    "elif dataset_str=='guacamol':\n",
    "    run_id = \"Guacamol_combined\"\n",
    "input_folder = f\"Runs/{run_id}/constant0_graph_pickles\""
   ]
  },
  {
   "cell_type": "code",
   "execution_count": 48,
   "id": "24651ab1",
   "metadata": {},
   "outputs": [],
   "source": [
    "def create_dict_pos_neg_first_reaction(input_folder, keep_only_not_purchasable, output_file):\n",
    "    result_dict = {}\n",
    "    for file_name in tqdm([file for file in os.listdir(input_folder) if \"pickle\" in file]):\n",
    "        with open(f\"{input_folder}/{file_name}\", \"rb\") as handle:\n",
    "            for smiles, output_graph in (pickle.load(handle)).items():\n",
    "                result_dict[smiles] = {}\n",
    "                if output_graph.root_node.has_solution:\n",
    "                    result_dict[smiles]['positives'] = []\n",
    "                    result_dict[smiles]['negatives'] = []\n",
    "                    # Extract best route\n",
    "                    (best_route_cost, best_route) = next(_iter_top_routes(\n",
    "                                    graph=output_graph,\n",
    "                                    cost_fn=_min_route_cost,\n",
    "                                    cost_lower_bound=_min_route_partial_cost,\n",
    "                                    max_routes=1,\n",
    "                                    yield_partial_routes=False,\n",
    "                                ))\n",
    "                    \n",
    "                    # Positive is: first reaction of the best route and children molecules\n",
    "                    positive_children = []\n",
    "                    for node in best_route:\n",
    "                        if isinstance(node, AndNode) & (node.depth==1):\n",
    "                            best_reaction_idx = node.reaction.metadata[\"template_idx\"]\n",
    "                        elif isinstance(node, OrNode):\n",
    "                            if keep_only_not_purchasable:\n",
    "                                check_purch = node.mol.metadata[\"is_purchasable\"]\n",
    "                            else:\n",
    "                                check_purch = False                      \n",
    "                            if (node.depth==2) & (not check_purch):\n",
    "                                positive_children.append(node.mol.smiles)\n",
    "                    result_dict[smiles]['positives'].append(positive_children)\n",
    "                    \n",
    "                    # Negatives are: all first reactions not chosen, along with the respective children\n",
    "                    for node in output_graph.successors(output_graph._root_node):\n",
    "                        if isinstance(node, AndNode) & (node.reaction.metadata[\"template_idx\"]!=best_reaction_idx):\n",
    "                            reaction_children_nodes = output_graph.successors(node)\n",
    "                            \n",
    "                            if keep_only_not_purchasable:\n",
    "                                reaction_children = [node.mol.smiles for node in reaction_children_nodes if not node.mol.metadata[\"is_purchasable\"]]  \n",
    "                            else:\n",
    "                                reaction_children = [node.mol.smiles for node in reaction_children_nodes]\n",
    "                            result_dict[smiles]['negatives'].append(reaction_children)\n",
    "                else:\n",
    "                    pass\n",
    "    \n",
    "    with open(output_file, \"wb\") as handle:\n",
    "            pickle.dump(result_dict, handle, protocol=pickle.HIGHEST_PROTOCOL)\n",
    "            "
   ]
  },
  {
   "cell_type": "code",
   "execution_count": 64,
   "id": "d6ecf02c",
   "metadata": {},
   "outputs": [
    {
     "data": {
      "application/vnd.jupyter.widget-view+json": {
       "model_id": "4251a9c5d744488f91c42fd1628d3f26",
       "version_major": 2,
       "version_minor": 0
      },
      "text/plain": [
       "  0%|          | 0/10000 [00:00<?, ?it/s]"
      ]
     },
     "metadata": {},
     "output_type": "display_data"
    }
   ],
   "source": [
    "keep_only_not_purchasable = False\n",
    "\n",
    "if keep_only_not_purchasable:\n",
    "    only_purch = \"not_purch\"\n",
    "else:\n",
    "    only_purch = \"all\"\n",
    "# 1. Create df_routes\n",
    "output_dict = f\"Runs/{run_id}/first_reaction_positive_negatives_\" + only_purch + \".pickle\"\n",
    "\n",
    "\n",
    "create_dict_pos_neg_first_reaction(input_folder, keep_only_not_purchasable, output_dict)"
   ]
  },
  {
   "cell_type": "code",
   "execution_count": 83,
   "id": "bee8dca8",
   "metadata": {},
   "outputs": [],
   "source": [
    "targ_routes_file = f\"Runs/{run_id}/targ_routes.pickle\"\n",
    "\n",
    "with open(targ_routes_file, \"rb\") as handle:\n",
    "    targ_routes = pickle.load(handle)\n",
    "\n"
   ]
  },
  {
   "cell_type": "code",
   "execution_count": 84,
   "id": "ebf8def4",
   "metadata": {},
   "outputs": [
    {
     "data": {
      "text/plain": [
       "'CCc1cc2nncc(N3CCc4[nH]nc(C(=O)NC5CC5)c4C3)c2cc1OC'"
      ]
     },
     "execution_count": 84,
     "metadata": {},
     "output_type": "execute_result"
    }
   ],
   "source": [
    "list(targ_routes.keys())[0]"
   ]
  },
  {
   "cell_type": "code",
   "execution_count": 85,
   "id": "7799f61a",
   "metadata": {},
   "outputs": [
    {
     "data": {
      "text/plain": [
       "{'route_1':       label                                             smiles  depth\n",
       " 1   route_1                                      O=[N+]([O-])O   10.0\n",
       " 3    Target  CCc1cc2nncc(N3CCc4[nH]nc(C(=O)NC5CC5)c4C3)c2cc1OC    0.0\n",
       " 5   route_1                        O=C(NC1CC1)c1n[nH]c2c1CNCC2    2.0\n",
       " 6   route_1                                      O=P(Br)(Br)Br    4.0\n",
       " 8   route_1                                               O=NO    6.0\n",
       " 10  route_1                                           CC(=O)Cl   12.0\n",
       " 11  route_1                                       CCc1ccccc1OC   12.0,\n",
       " 'route_2':       label                                             smiles  depth\n",
       " 13  route_2                                      CC(=O)OC(C)=O   12.0\n",
       " 14  route_2                                      O=[N+]([O-])O   10.0\n",
       " 16   Target  CCc1cc2nncc(N3CCc4[nH]nc(C(=O)NC5CC5)c4C3)c2cc1OC    0.0\n",
       " 18  route_2                        O=C(NC1CC1)c1n[nH]c2c1CNCC2    2.0\n",
       " 19  route_2                                      O=P(Br)(Br)Br    4.0\n",
       " 21  route_2                                               O=NO    6.0\n",
       " 23  route_2                                       CCc1ccccc1OC   12.0,\n",
       " 'route_3':       label                                             smiles  depth\n",
       " 24  route_3                                            CC(=O)O   12.0\n",
       " 26  route_3                                       CCc1ccccc1OC   12.0\n",
       " 27  route_3                                      O=[N+]([O-])O   10.0\n",
       " 29   Target  CCc1cc2nncc(N3CCc4[nH]nc(C(=O)NC5CC5)c4C3)c2cc1OC    0.0\n",
       " 31  route_3                        O=C(NC1CC1)c1n[nH]c2c1CNCC2    2.0\n",
       " 32  route_3                                      O=P(Br)(Br)Br    4.0\n",
       " 34  route_3                                               O=NO    6.0}"
      ]
     },
     "execution_count": 85,
     "metadata": {},
     "output_type": "execute_result"
    }
   ],
   "source": [
    "targ_routes['CCc1cc2nncc(N3CCc4[nH]nc(C(=O)NC5CC5)c4C3)c2cc1OC']"
   ]
  },
  {
   "cell_type": "code",
   "execution_count": 81,
   "id": "46a04938",
   "metadata": {},
   "outputs": [],
   "source": [
    "output_dict_all = f\"Runs/{run_id}/first_reaction_positive_negatives_all.pickle\"\n",
    "\n",
    "with open(output_dict_all, \"rb\") as handle:\n",
    "    result_dict_all = pickle.load(handle)\n",
    "    \n",
    "output_dict_not_purch = f\"Runs/{run_id}/first_reaction_positive_negatives_not_purch.pickle\"\n",
    "\n",
    "with open(output_dict_not_purch, \"rb\") as handle:\n",
    "    result_dict_not_purch = pickle.load(handle)\n",
    "    "
   ]
  },
  {
   "cell_type": "code",
   "execution_count": 68,
   "id": "792d378f",
   "metadata": {},
   "outputs": [
    {
     "data": {
      "text/plain": [
       "16"
      ]
     },
     "execution_count": 68,
     "metadata": {},
     "output_type": "execute_result"
    }
   ],
   "source": [
    "len(result_dict['CN1CCC(Oc2cc(Cn3cnc4cc(-c5ccc(Cl)cc5)sc4c3=O)ccn2)CC1']['negatives'])\n"
   ]
  },
  {
   "cell_type": "code",
   "execution_count": 77,
   "id": "3ac9a9f0",
   "metadata": {},
   "outputs": [
    {
     "ename": "AttributeError",
     "evalue": "'str' object has no attribute 'keys'",
     "output_type": "error",
     "traceback": [
      "\u001b[0;31m---------------------------------------------------------------------------\u001b[0m",
      "\u001b[0;31mAttributeError\u001b[0m                            Traceback (most recent call last)",
      "Cell \u001b[0;32mIn[77], line 1\u001b[0m\n\u001b[0;32m----> 1\u001b[0m \u001b[38;5;28mlist\u001b[39m(\u001b[43moutput_dict_all\u001b[49m\u001b[38;5;241;43m.\u001b[39;49m\u001b[43mkeys\u001b[49m())[\u001b[38;5;241m0\u001b[39m]\n",
      "\u001b[0;31mAttributeError\u001b[0m: 'str' object has no attribute 'keys'"
     ]
    }
   ],
   "source": [
    "list(output_dict_all.keys())[0]"
   ]
  },
  {
   "cell_type": "code",
   "execution_count": 73,
   "id": "7c96f1d2",
   "metadata": {},
   "outputs": [
    {
     "data": {
      "text/plain": [
       "['CN1CCC(Oc2cc(CN)ccn2)CC1', 'COC(=O)c1sc(-c2ccc(Cl)cc2)cc1/N=C/N(C)C']"
      ]
     },
     "execution_count": 73,
     "metadata": {},
     "output_type": "execute_result"
    }
   ],
   "source": [
    "result_dict['CN1CCC(Oc2cc(Cn3cnc4cc(-c5ccc(Cl)cc5)sc4c3=O)ccn2)CC1']['negatives'][2]"
   ]
  },
  {
   "cell_type": "code",
   "execution_count": 82,
   "id": "0498a858",
   "metadata": {},
   "outputs": [
    {
     "name": "stdout",
     "output_type": "stream",
     "text": [
      "2\n",
      "2\n",
      "2\n",
      "2\n",
      "1\n",
      "2\n",
      "2\n",
      "2\n",
      "2\n",
      "2\n",
      "2\n",
      "2\n",
      "2\n",
      "2\n",
      "1\n",
      "2\n",
      "£££££££\n",
      "1\n",
      "1\n",
      "1\n",
      "2\n",
      "1\n",
      "2\n",
      "1\n",
      "2\n",
      "1\n",
      "1\n",
      "1\n",
      "1\n",
      "1\n",
      "2\n",
      "1\n",
      "1\n"
     ]
    }
   ],
   "source": [
    "for mol_list in result_dict_all['CN1CCC(Oc2cc(Cn3cnc4cc(-c5ccc(Cl)cc5)sc4c3=O)ccn2)CC1']['negatives']:\n",
    "    print(len(mol_list))\n",
    "print(\"£££££££\")\n",
    "for mol_list in result_dict_not_purch['CN1CCC(Oc2cc(Cn3cnc4cc(-c5ccc(Cl)cc5)sc4c3=O)ccn2)CC1']['negatives']:\n",
    "    print(len(mol_list))    "
   ]
  },
  {
   "cell_type": "code",
   "execution_count": 11,
   "id": "8ad9d396",
   "metadata": {},
   "outputs": [
    {
     "data": {
      "text/plain": [
       "'mol_9088.pickle'"
      ]
     },
     "execution_count": 11,
     "metadata": {},
     "output_type": "execute_result"
    }
   ],
   "source": [
    "file_name = [file for file in os.listdir(input_folder) if \"pickle\" in file][0]\n",
    "file_name"
   ]
  },
  {
   "cell_type": "code",
   "execution_count": null,
   "id": "4c1098a6",
   "metadata": {},
   "outputs": [],
   "source": []
  },
  {
   "cell_type": "code",
   "execution_count": null,
   "id": "932c6788",
   "metadata": {},
   "outputs": [],
   "source": []
  },
  {
   "cell_type": "code",
   "execution_count": 43,
   "id": "d212af5a",
   "metadata": {},
   "outputs": [
    {
     "name": "stdout",
     "output_type": "stream",
     "text": [
      "19099\n",
      "%%%%%%\n",
      "19099\n",
      "397\n",
      "25421\n",
      "35309\n",
      "8069\n",
      "9199\n",
      "28400\n",
      "22010\n",
      "36459\n",
      "29157\n",
      "13158\n",
      "19150\n",
      "17192\n",
      "33875\n",
      "4517\n",
      "9915\n",
      "39987\n",
      "17\n"
     ]
    }
   ],
   "source": [
    "with open(f\"{input_folder}/{file_name}\", \"rb\") as handle:\n",
    "    for smiles, output_graph in (pickle.load(handle)).items():\n",
    "#         print(smiles)\n",
    "#         print(output_graph.__dict__)\n",
    "#         print(len(output_graph.successors(output_graph._root_node)))\n",
    "        result_dict[smiles] = {}\n",
    "        if output_graph.root_node.has_solution:\n",
    "            result_dict[smiles]['positives'] = []\n",
    "            result_dict[smiles]['negatives'] = []\n",
    "            for (best_route_cost, best_route) in (\n",
    "                                    _iter_top_routes(\n",
    "                                        graph=output_graph,\n",
    "                                        cost_fn=_min_route_cost,\n",
    "                                        cost_lower_bound=_min_route_partial_cost,\n",
    "                                        max_routes=1,\n",
    "                                        yield_partial_routes=False,\n",
    "                                    )\n",
    "                                ):\n",
    "                pass\n",
    "            # Identify best reaction index\n",
    "            for node in best_route:\n",
    "                if isinstance(node, AndNode) & (node.depth==1):\n",
    "                    best_reaction_idx = node.reaction.metadata[\"template_idx\"]\n",
    "                elif isinstance(node, OrNode):\n",
    "                    if keep_only_not_purchasable:\n",
    "                        check_purch = node.mol.metadata[\"is_purchasable\"]\n",
    "                    else:\n",
    "                        check_purch = True\n",
    "                    if (node.depth==2) & check_purch:\n",
    "                        positive_children.append(node.mol.smiles)\n",
    "                else:\n",
    "                    pass\n",
    "            print(\"%%%%%%\")\n",
    "            for node in output_graph.successors(output_graph._root_node):\n",
    "                if isinstance(node, AndNode) & (node.reaction.metadata[\"template_idx\"]!=best_reaction_idx):\n",
    "                    i+=1\n",
    "                    print(node.reaction.metadata[\"template_idx\"])\n",
    "    #             print(node)\n",
    "            print(i)"
   ]
  },
  {
   "cell_type": "code",
   "execution_count": null,
   "id": "93eb2712",
   "metadata": {},
   "outputs": [],
   "source": []
  }
 ],
 "metadata": {
  "kernelspec": {
   "display_name": "Python 3 (ipykernel)",
   "language": "python",
   "name": "python3"
  },
  "language_info": {
   "codemirror_mode": {
    "name": "ipython",
    "version": 3
   },
   "file_extension": ".py",
   "mimetype": "text/x-python",
   "name": "python",
   "nbconvert_exporter": "python",
   "pygments_lexer": "ipython3",
   "version": "3.10.8"
  }
 },
 "nbformat": 4,
 "nbformat_minor": 5
}
