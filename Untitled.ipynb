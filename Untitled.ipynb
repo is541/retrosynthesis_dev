{
 "cells": [
  {
   "cell_type": "code",
   "execution_count": null,
   "id": "d69764bf",
   "metadata": {},
   "outputs": [],
   "source": [
    "import torch.nn as nn\n",
    "import torch.nn.functional as F\n",
    "import deepchem as dc\n",
    "\n",
    "\n"
   ]
  },
  {
   "cell_type": "code",
   "execution_count": null,
   "id": "8a73a7ec",
   "metadata": {},
   "outputs": [],
   "source": [
    "## Keras"
   ]
  },
  {
   "cell_type": "code",
   "execution_count": null,
   "id": "3020ea5f",
   "metadata": {},
   "outputs": [],
   "source": [
    "class ClassificationModel(tf.keras.Model):\n",
    "    \n",
    "    def __init__(self):\n",
    "        super(ClassificationModel, self).__init__()\n",
    "        self.dense1 = tf.keras.layers.Dense(1000, activation='relu')\n",
    "        self.dense2 = tf.keras.layers.Dense(1)\n",
    "\n",
    "    def call(self, inputs, training=False):\n",
    "        y = self.dense1(inputs)\n",
    "        if training:\n",
    "            y = tf.nn.dropout(y, 0.5)\n",
    "        logits = self.dense2(y)\n",
    "        output = tf.nn.sigmoid(logits)\n",
    "        return output, logits\n",
    "\n",
    "keras_model = ClassificationModel()\n",
    "output_types = ['prediction', 'loss']\n",
    "model = dc.models.KerasModel(keras_model, dc.models.losses.SigmoidCrossEntropy(), output_types=output_types)"
   ]
  },
  {
   "cell_type": "code",
   "execution_count": null,
   "id": "b5fb0eec",
   "metadata": {},
   "outputs": [],
   "source": [
    "tasks, datasets, transformers = dc.molnet.load_bace_classification(feturizer='ECFP', splitter='scaffold')\n",
    "train_dataset, valid_dataset, test_dataset = datasets\n",
    "model.fit(train_dataset, nb_epoch=100)\n",
    "metric = dc.metrics.Metric(dc.metrics.roc_auc_score)\n",
    "print('training set score:', model.evaluate(train_dataset, [metric]))\n",
    "print('test set score:', model.evaluate(test_dataset, [metric]))"
   ]
  },
  {
   "cell_type": "code",
   "execution_count": null,
   "id": "daa33c39",
   "metadata": {},
   "outputs": [],
   "source": [
    "### Featurizer"
   ]
  },
  {
   "cell_type": "code",
   "execution_count": null,
   "id": "102da6d5",
   "metadata": {},
   "outputs": [],
   "source": [
    "\n",
    "\n",
    "featurizer=dc.feat.ConvMolFeaturizer(per_atom_fragmentation=False)\n",
    "f = featurizer.featurize(smiles)"
   ]
  },
  {
   "cell_type": "code",
   "execution_count": null,
   "id": "7b41c0ab",
   "metadata": {},
   "outputs": [],
   "source": [
    "### Model"
   ]
  },
  {
   "cell_type": "code",
   "execution_count": null,
   "id": "580de042",
   "metadata": {},
   "outputs": [],
   "source": [
    "from deepchem.models.layers import GraphConv, GraphPool, GraphGather\n",
    "import tensorflow as tf\n",
    "import tensorflow.keras.layers as layers\n",
    "\n",
    "batch_size = 100\n",
    "\n",
    "class MyGraphConvModel(tf.keras.Model):\n",
    "\n",
    "    def __init__(self):\n",
    "        super(MyGraphConvModel, self).__init__()\n",
    "        self.gc1 = GraphConv(128, activation_fn=tf.nn.tanh)\n",
    "        self.batch_norm1 = layers.BatchNormalization()\n",
    "        self.gp1 = GraphPool()\n",
    "\n",
    "        self.gc2 = GraphConv(128, activation_fn=tf.nn.tanh)\n",
    "        self.batch_norm2 = layers.BatchNormalization()\n",
    "        self.gp2 = GraphPool()\n",
    "\n",
    "        self.dense1 = layers.Dense(256, activation=tf.nn.tanh)\n",
    "        self.batch_norm3 = layers.BatchNormalization()\n",
    "        self.readout = GraphGather(batch_size=batch_size, activation_fn=tf.nn.tanh)\n",
    "\n",
    "        self.dense2 = layers.Dense(n_tasks*2)\n",
    "        self.logits = layers.Reshape((n_tasks, 2))\n",
    "        self.softmax = layers.Softmax()\n",
    "\n",
    "    def call(self, inputs):\n",
    "        gc1_output = self.gc1(inputs)\n",
    "        batch_norm1_output = self.batch_norm1(gc1_output)\n",
    "        gp1_output = self.gp1([batch_norm1_output] + inputs[1:])\n",
    "\n",
    "        gc2_output = self.gc2([gp1_output] + inputs[1:])\n",
    "        batch_norm2_output = self.batch_norm1(gc2_output)\n",
    "        gp2_output = self.gp2([batch_norm2_output] + inputs[1:])\n",
    "\n",
    "        dense1_output = self.dense1(gp2_output)\n",
    "        batch_norm3_output = self.batch_norm3(dense1_output)\n",
    "        readout_output = self.readout([batch_norm3_output] + inputs[1:])\n",
    "\n",
    "        logits_output = self.logits(self.dense2(readout_output))\n",
    "        return self.softmax(logits_output)\n",
    "\n",
    "model = dc.models.GraphConvModel(n_tasks, mode='classification')\n",
    "model.fit(train_dataset, nb_epoch=50)\n",
    "\n",
    "metric = dc.metrics.Metric(dc.metrics.roc_auc_score)\n",
    "print('Training set score:', model.evaluate(train_dataset, [metric], transformers))\n",
    "print('Test set score:', model.evaluate(test_dataset, [metric], transformers))"
   ]
  },
  {
   "cell_type": "code",
   "execution_count": null,
   "id": "12cbe425",
   "metadata": {},
   "outputs": [],
   "source": [
    "### Loss"
   ]
  },
  {
   "cell_type": "code",
   "execution_count": null,
   "id": "955a7fb1",
   "metadata": {},
   "outputs": [],
   "source": [
    "# import torch\n",
    "# from deepchem.models.losses import NTXentMultiplePositives\n",
    "# z1 = torch.randn(4, 8)\n",
    "# z2 = torch.randn(4 * 3, 8)\n",
    "# ntxent_loss = NTXentMultiplePositives(norm=True, tau=0.5)\n",
    "# loss_fn = ntxent_loss._create_pytorch_loss()\n",
    "# loss = loss_fn(z1, z2)\n",
    "\n",
    "model = dc.models.KerasModel(\n",
    "    MyGraphConvModel(), \n",
    "    loss=dc.models.losses.CategoricalCrossEntropy()\n",
    ")\n",
    "\n",
    "\n"
   ]
  },
  {
   "cell_type": "code",
   "execution_count": null,
   "id": "97d2b71d",
   "metadata": {},
   "outputs": [],
   "source": [
    "### Data generator"
   ]
  },
  {
   "cell_type": "code",
   "execution_count": null,
   "id": "d6e43a7e",
   "metadata": {},
   "outputs": [],
   "source": [
    "from deepchem.metrics import to_one_hot\n",
    "from deepchem.feat.mol_graphs import ConvMol\n",
    "import numpy as np\n",
    "\n",
    "def data_generator(dataset, epochs=1):\n",
    "    for ind, (X_b, y_b, w_b, ids_b) in enumerate(dataset.iterbatches(batch_size, epochs,\n",
    "                                                                   deterministic=False, pad_batches=True)):\n",
    "        multiConvMol = ConvMol.agglomerate_mols(X_b)\n",
    "        inputs = [multiConvMol.get_atom_features(), multiConvMol.deg_slice, np.array(multiConvMol.membership)]\n",
    "    for i in range(1, len(multiConvMol.get_deg_adjacency_lists())):\n",
    "        inputs.append(multiConvMol.get_deg_adjacency_lists()[i])\n",
    "    labels = [to_one_hot(y_b.flatten(), 2).reshape(-1, n_tasks, 2)]\n",
    "    weights = [w_b]\n",
    "    yield (inputs, labels, weights)"
   ]
  },
  {
   "cell_type": "code",
   "execution_count": null,
   "id": "cd0874c8",
   "metadata": {},
   "outputs": [],
   "source": [
    "### Fit"
   ]
  },
  {
   "cell_type": "code",
   "execution_count": null,
   "id": "1cac526d",
   "metadata": {},
   "outputs": [],
   "source": [
    "model.fit_generator(data_generator(train_dataset, epochs=50))"
   ]
  },
  {
   "cell_type": "code",
   "execution_count": null,
   "id": "d8c63d09",
   "metadata": {},
   "outputs": [],
   "source": []
  },
  {
   "cell_type": "code",
   "execution_count": null,
   "id": "91f20921",
   "metadata": {},
   "outputs": [],
   "source": [
    "print('Training set score:', model.evaluate_generator(data_generator(train_dataset), [metric], transformers))\n",
    "print('Test set score:', model.evaluate_generator(data_generator(test_dataset), [metric], transformers))"
   ]
  },
  {
   "cell_type": "code",
   "execution_count": null,
   "id": "1d1a65e6",
   "metadata": {},
   "outputs": [],
   "source": []
  },
  {
   "cell_type": "code",
   "execution_count": null,
   "id": "ef00f501",
   "metadata": {},
   "outputs": [],
   "source": [
    "## Pytorch"
   ]
  },
  {
   "cell_type": "code",
   "execution_count": null,
   "id": "bb1c8f3a",
   "metadata": {},
   "outputs": [],
   "source": [
    "\n",
    "\n",
    "\n",
    "# class Model(nn.Module):\n",
    "#     def __init__(self):\n",
    "#         super().__init__()\n",
    "#         self.conv1 = nn.Conv2d(1, 20, 5)\n",
    "#         self.conv2 = nn.Conv2d(20, 20, 5)\n",
    "\n",
    "#     def forward(self, x):\n",
    "#         x = F.relu(self.conv1(x))\n",
    "#         return F.relu(self.conv2(x))\n",
    "    \n",
    "    \n",
    "class ClassificationModel(torch.nn.Module):\n",
    "    \n",
    "    def __init__(self):\n",
    "        super(ClassificationModel, self).__init__()\n",
    "        self.dense1 = torch.nn.Linear(1024, 1000)\n",
    "        self.dense2 = torch.nn.Linear(1000, 1)\n",
    "\n",
    "    def forward(self, inputs):\n",
    "        y = torch.nn.functional.relu( self.dense1(inputs) )\n",
    "        y = torch.nn.functional.dropout(y, p=0.5, training=self.training)\n",
    "        logits = self.dense2(y)\n",
    "        output = torch.sigmoid(logits)\n",
    "        return output, logits\n",
    "\n",
    "torch_model = ClassificationModel()\n",
    "output_types = ['prediction', 'loss']\n",
    "model = dc.models.TorchModel(torch_model, dc.models.losses.SigmoidCrossEntropy(), output_types=output_types)"
   ]
  },
  {
   "cell_type": "code",
   "execution_count": null,
   "id": "2d1dcf3e",
   "metadata": {},
   "outputs": [],
   "source": [
    "tasks, datasets, transformers = dc.molnet.load_bace_classification(feturizer='ECFP', splitter='scaffold')\n",
    "train_dataset, valid_dataset, test_dataset = datasets\n",
    "model.fit(train_dataset, nb_epoch=100)\n",
    "metric = dc.metrics.Metric(dc.metrics.roc_auc_score)\n",
    "print('training set score:', model.evaluate(train_dataset, [metric]))\n",
    "print('test set score:', model.evaluate(test_dataset, [metric]))"
   ]
  },
  {
   "cell_type": "code",
   "execution_count": null,
   "id": "f0a4936f",
   "metadata": {},
   "outputs": [],
   "source": [
    "### Featurizer"
   ]
  },
  {
   "cell_type": "code",
   "execution_count": null,
   "id": "1c540709",
   "metadata": {},
   "outputs": [],
   "source": [
    "\n",
    "featurizer=dc.feat.MolGraphConvFeaturizer(per_atom_fragmentation=False)\n",
    "f = featurizer.featurize(smiles)\n",
    "\n"
   ]
  },
  {
   "cell_type": "code",
   "execution_count": null,
   "id": "de6914ae",
   "metadata": {},
   "outputs": [],
   "source": [
    "### Model"
   ]
  }
 ],
 "metadata": {
  "kernelspec": {
   "display_name": "Python 3 (ipykernel)",
   "language": "python",
   "name": "python3"
  },
  "language_info": {
   "codemirror_mode": {
    "name": "ipython",
    "version": 3
   },
   "file_extension": ".py",
   "mimetype": "text/x-python",
   "name": "python",
   "nbconvert_exporter": "python",
   "pygments_lexer": "ipython3",
   "version": "3.10.8"
  }
 },
 "nbformat": 4,
 "nbformat_minor": 5
}
