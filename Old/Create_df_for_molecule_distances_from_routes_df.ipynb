{
 "cells": [
  {
   "cell_type": "code",
   "execution_count": 1,
   "id": "654a6f69",
   "metadata": {},
   "outputs": [],
   "source": [
    "import pandas as pd\n",
    "\n",
    "from paroutes import PaRoutesInventory\n",
    "from rdkit.Chem import DataStructs, AllChem\n",
    "\n",
    "import pickle\n",
    "import numpy as np\n",
    "\n",
    "from tqdm import tqdm"
   ]
  },
  {
   "cell_type": "code",
   "execution_count": null,
   "id": "862f8a7f",
   "metadata": {},
   "outputs": [],
   "source": []
  },
  {
   "cell_type": "markdown",
   "id": "0b54721b",
   "metadata": {},
   "source": [
    "## Read input file"
   ]
  },
  {
   "cell_type": "code",
   "execution_count": 2,
   "id": "29a1c9e4",
   "metadata": {},
   "outputs": [],
   "source": [
    "# Routes dataframe\n",
    "run_id = '202305-2911-2320-5a95df0e-3008-4ebe-acd8-ecb3b50607c7'\n",
    "input_file = f'Runs/{run_id}/routes_df.csv'\n",
    "routes_df = pd.read_csv(input_file)\n",
    "\n",
    "output_file_routes = f'Runs/{run_id}/targ_routes.pickle'\n",
    "output_file_distances = f'Runs/{run_id}/targ_to_purch_distances.pickle'\n",
    "\n",
    "\n",
    "# Inventory\n",
    "inventory=PaRoutesInventory(n=5)\n"
   ]
  },
  {
   "cell_type": "markdown",
   "id": "816114c2",
   "metadata": {},
   "source": [
    "## Create dataframe"
   ]
  },
  {
   "cell_type": "code",
   "execution_count": 3,
   "id": "ebe43191",
   "metadata": {},
   "outputs": [
    {
     "data": {
      "text/plain": [
       "13325"
      ]
     },
     "execution_count": 3,
     "metadata": {},
     "output_type": "execute_result"
    }
   ],
   "source": [
    "purch_smiles = [mol.smiles for mol in inventory.purchasable_mols()]\n",
    "len(purch_smiles)\n"
   ]
  },
  {
   "cell_type": "code",
   "execution_count": 4,
   "id": "8dc903c0",
   "metadata": {},
   "outputs": [
    {
     "name": "stderr",
     "output_type": "stream",
     "text": [
      "100%|█████████████████████████████████████████████████████████████████| 9895/9895 [4:05:19<00:00,  1.49s/it]\n"
     ]
    }
   ],
   "source": [
    "target_smiles = routes_df['target_smiles'].unique()\n",
    "cols_to_keep_renamed = {\n",
    "    'route_rank': 'label',\n",
    "    'intermediate_smiles': 'smiles',\n",
    "    'intermediate_depth': 'depth',\n",
    "}\n",
    "\n",
    "def fingerprint_from_smiles(mol_smiles):\n",
    "    return AllChem.GetMorganFingerprint(AllChem.MolFromSmiles(mol_smiles), radius=3)\n",
    "\n",
    "# Save 2 separate data dict: one with distances and rank (for every target), \n",
    "# one with sets of purchasable molecules, plus distance and rank (for every target)\n",
    "\n",
    "# Create distances dfs\n",
    "distances_df_dict = {}\n",
    "routes_data_dict = {}\n",
    "for target in tqdm(target_smiles):\n",
    "    # 1 - Distances dfs\n",
    "    # Compute distances\n",
    "    target_fingerprint = fingerprint_from_smiles(target)\n",
    "    purch_fingerprints = list(map(fingerprint_from_smiles, purch_smiles))\n",
    "    purch_target_distance = [1 - sim for sim in DataStructs.BulkTanimotoSimilarity(target_fingerprint, purch_fingerprints)]\n",
    "    distance_df = pd.DataFrame({'smiles': purch_smiles, 'Tanimoto_distance_from_target':purch_target_distance})\n",
    "    \n",
    "    # Add rank\n",
    "    distance_df_sorted = distance_df.sort_values(['Tanimoto_distance_from_target', 'smiles'], ascending=True).reset_index(drop=True)\n",
    "    distance_df_sorted['distance_to_target_rank'] = distance_df_sorted.index +1    \n",
    "    \n",
    "    distances_df_dict[target] = distance_df_sorted\n",
    "    \n",
    "    # 2 - Routes df\n",
    "    target_df = routes_df.loc[routes_df['target_smiles']==target]\n",
    "    routes_data_dict[target] = {}\n",
    "    \n",
    "    for route_rank in target_df['route_rank'].dropna().unique():\n",
    "        target_route_df =  target_df.loc[((target_df['intermediate_is_purchasable']) | \n",
    "                                          (target_df['intermediate_smiles']==target)) & \n",
    "                                         (target_df['route_rank']==route_rank), \n",
    "                                         cols_to_keep_renamed.keys()].drop_duplicates()\n",
    "        route_name = 'route_' + str(int(route_rank))\n",
    "        target_route_df['route_rank'] = route_name\n",
    "#         target_route_df['route_rank'] = 'route_' + target_route_df['route_rank'].astype(int).astype(str)\n",
    "        \n",
    "        target_route_df = target_route_df.rename(columns=cols_to_keep_renamed)\n",
    "        \n",
    "        target_route_df = pd.merge(target_route_df, distance_df_sorted, how='left', on='smiles')\n",
    "        \n",
    "        target_mask = target_route_df['smiles']==target\n",
    "        target_route_df.loc[target_mask, 'label'] = 'Target'\n",
    "        target_route_df.loc[target_mask, 'Tanimoto_distance_from_target'] = 0\n",
    "        \n",
    "        routes_data_dict[target].update({route_name: target_route_df})\n",
    "    \n",
    "    "
   ]
  },
  {
   "cell_type": "code",
   "execution_count": 5,
   "id": "41fcdbd2",
   "metadata": {},
   "outputs": [
    {
     "data": {
      "text/plain": [
       "{'route_1':      label                                             smiles  depth   \n",
       " 0  route_1                                           CC(=O)Cl   12.0  \\\n",
       " 1  route_1                                      O=[N+]([O-])O   10.0   \n",
       " 2   Target  CCc1cc2nncc(N3CCc4[nH]nc(C(=O)NC5CC5)c4C3)c2cc1OC    0.0   \n",
       " 3  route_1                        O=C(NC1CC1)c1n[nH]c2c1CNCC2    2.0   \n",
       " 4  route_1                                      O=P(Br)(Br)Br    4.0   \n",
       " 5  route_1                                               O=NO    6.0   \n",
       " 6  route_1                                       CCc1ccccc1OC   12.0   \n",
       " \n",
       "    Tanimoto_distance_from_target  distance_to_target_rank  \n",
       " 0                       0.963303                  12315.0  \n",
       " 1                       0.991071                  13094.0  \n",
       " 2                       0.000000                      NaN  \n",
       " 3                       0.677686                      1.0  \n",
       " 4                       0.991228                  13132.0  \n",
       " 5                       0.990909                  13080.0  \n",
       " 6                       0.859504                    456.0  ,\n",
       " 'route_2':      label                                             smiles  depth   \n",
       " 0  route_2                                      O=P(Br)(Br)Br    4.0  \\\n",
       " 1  route_2                                      O=[N+]([O-])O   10.0   \n",
       " 2   Target  CCc1cc2nncc(N3CCc4[nH]nc(C(=O)NC5CC5)c4C3)c2cc1OC    0.0   \n",
       " 3  route_2                        O=C(NC1CC1)c1n[nH]c2c1CNCC2    2.0   \n",
       " 4  route_2                                               O=NO    6.0   \n",
       " 5  route_2                                       CCc1ccccc1OC   12.0   \n",
       " 6  route_2                                      CC(=O)OC(C)=O   12.0   \n",
       " \n",
       "    Tanimoto_distance_from_target  distance_to_target_rank  \n",
       " 0                       0.991228                  13132.0  \n",
       " 1                       0.991071                  13094.0  \n",
       " 2                       0.000000                      NaN  \n",
       " 3                       0.677686                      1.0  \n",
       " 4                       0.990909                  13080.0  \n",
       " 5                       0.859504                    456.0  \n",
       " 6                       0.948276                  10964.0  ,\n",
       " 'route_3':      label                                             smiles  depth   \n",
       " 0  route_3                                      O=P(Br)(Br)Br    4.0  \\\n",
       " 1  route_3                                       CCc1ccccc1OC   12.0   \n",
       " 2  route_3                                      O=[N+]([O-])O   10.0   \n",
       " 3   Target  CCc1cc2nncc(N3CCc4[nH]nc(C(=O)NC5CC5)c4C3)c2cc1OC    0.0   \n",
       " 4  route_3                        O=C(NC1CC1)c1n[nH]c2c1CNCC2    2.0   \n",
       " 5  route_3                                               O=NO    6.0   \n",
       " 6  route_3                                            CC(=O)O   12.0   \n",
       " \n",
       "    Tanimoto_distance_from_target  distance_to_target_rank  \n",
       " 0                       0.991228                  13132.0  \n",
       " 1                       0.859504                    456.0  \n",
       " 2                       0.991071                  13094.0  \n",
       " 3                       0.000000                      NaN  \n",
       " 4                       0.677686                      1.0  \n",
       " 5                       0.990909                  13080.0  \n",
       " 6                       0.963303                  12316.0  }"
      ]
     },
     "execution_count": 5,
     "metadata": {},
     "output_type": "execute_result"
    }
   ],
   "source": [
    "routes_data_dict['CCc1cc2nncc(N3CCc4[nH]nc(C(=O)NC5CC5)c4C3)c2cc1OC']"
   ]
  },
  {
   "cell_type": "code",
   "execution_count": 6,
   "id": "33103e2d",
   "metadata": {},
   "outputs": [],
   "source": [
    "with open(output_file_routes, 'wb') as handle:\n",
    "    pickle.dump(routes_data_dict, handle, protocol=pickle.HIGHEST_PROTOCOL)\n",
    "\n",
    "\n",
    "with open(output_file_distances, 'wb') as handle:\n",
    "    pickle.dump(distances_df_dict, handle, protocol=pickle.HIGHEST_PROTOCOL)\n",
    "\n",
    "\n",
    "\n"
   ]
  },
  {
   "cell_type": "code",
   "execution_count": 7,
   "id": "f88a54c0",
   "metadata": {},
   "outputs": [],
   "source": [
    "# data_dict.keys()"
   ]
  },
  {
   "cell_type": "code",
   "execution_count": 8,
   "id": "07c80f1a",
   "metadata": {},
   "outputs": [],
   "source": [
    "# data_dict['CCc1cc2nncc(N3CCc4[nH]nc(C(=O)NC5CC5)c4C3)c2cc1OC']['route_1']['label'].unique()"
   ]
  },
  {
   "cell_type": "code",
   "execution_count": null,
   "id": "c32412fe",
   "metadata": {},
   "outputs": [],
   "source": []
  }
 ],
 "metadata": {
  "kernelspec": {
   "display_name": "Python 3 (ipykernel)",
   "language": "python",
   "name": "python3"
  },
  "language_info": {
   "codemirror_mode": {
    "name": "ipython",
    "version": 3
   },
   "file_extension": ".py",
   "mimetype": "text/x-python",
   "name": "python",
   "nbconvert_exporter": "python",
   "pygments_lexer": "ipython3",
   "version": "3.10.8"
  }
 },
 "nbformat": 4,
 "nbformat_minor": 5
}
