{
 "cells": [
  {
   "cell_type": "code",
   "execution_count": null,
   "id": "be3179f1",
   "metadata": {},
   "outputs": [],
   "source": [
    "# !export PYTHONPATH=/Users/ilariasartori/syntheseus:/Users/ilariasartori/syntheseus/tutorials/search"
   ]
  },
  {
   "cell_type": "code",
   "execution_count": null,
   "id": "1b0859e2",
   "metadata": {},
   "outputs": [],
   "source": [
    "# !echo $PYTHONPATH"
   ]
  },
  {
   "cell_type": "code",
   "execution_count": null,
   "id": "5a9be200",
   "metadata": {},
   "outputs": [],
   "source": [
    "import numpy as np\n",
    "import pandas as pd\n",
    "\n",
    "class SearchResult:\n",
    "    def __init__(self, name, soln_time_dict, num_different_routes_dict, \n",
    "                 final_num_rxn_model_calls_dict, output_graph_dict, routes_dict):\n",
    "        self.name = name\n",
    "        self.soln_time_dict = soln_time_dict\n",
    "        self.num_different_routes_dict = num_different_routes_dict\n",
    "        self.final_num_rxn_model_calls_dict = final_num_rxn_model_calls_dict\n",
    "        self.output_graph_dict = output_graph_dict\n",
    "        self.routes_dict = routes_dict\n",
    "\n",
    "labelalias = {\n",
    "    'constant-0': 'constant-0',\n",
    "    'Tanimoto-distance': 'Tanimoto',\n",
    "    'Tanimoto-distance-TIMES10': 'Tanimoto_times10',\n",
    "    'Tanimoto-distance-TIMES100': 'Tanimoto_times100',\n",
    "    'Tanimoto-distance-EXP': 'Tanimoto_exp',\n",
    "    'Tanimoto-distance-SQRT': 'Tanimoto_sqrt',\n",
    "    \"Tanimoto-distance-NUM_NEIGHBORS_TO_06\": \"Tanimoto_nn_to_06\",\n",
    "}\n",
    "\n",
    "\n"
   ]
  },
  {
   "cell_type": "code",
   "execution_count": null,
   "id": "c1d16b50",
   "metadata": {},
   "outputs": [],
   "source": [
    "# alg_names = [x[0] for x in value_fns]\n",
    "# alg_names"
   ]
  },
  {
   "cell_type": "markdown",
   "id": "b98144b9",
   "metadata": {},
   "source": [
    "## Load from pickle"
   ]
  },
  {
   "cell_type": "code",
   "execution_count": null,
   "id": "b9b437d8",
   "metadata": {},
   "outputs": [],
   "source": [
    "# # Load pickle\n",
    "import pickle\n",
    "import os\n",
    "\n",
    "eventid= \"202305-1709-5350-ZZ-and_202305-1412-3438\"\n",
    "output_folder = f\"Results/{eventid}\"\n",
    "\n",
    "result = {}\n",
    "for file_name in [file for file in os.listdir(output_folder) if 'pickle' in file]:\n",
    "    name = file_name.replace('.pickle','').replace('result_','')\n",
    "    with open(f'{output_folder}/{file_name}', 'rb') as handle:\n",
    "        result[name] = pickle.load(handle)\n",
    "\n"
   ]
  },
  {
   "cell_type": "code",
   "execution_count": null,
   "id": "67cb6e55",
   "metadata": {},
   "outputs": [],
   "source": [
    "import pandas as pd\n",
    "\n",
    "def create_result_df(result, name):\n",
    "    assert name == result[name].name, f\"name: {name} is different from result[name].name: {result[name].name}\"\n",
    "    \n",
    "    soln_time_dict = result[name].soln_time_dict\n",
    "    num_different_routes_dict = result[name].num_different_routes_dict\n",
    "    final_num_rxn_model_calls_dict = result[name].final_num_rxn_model_calls_dict\n",
    "    output_graph_dict = result[name].output_graph_dict\n",
    "    routes_dict = result[name].routes_dict\n",
    "\n",
    "    # df_results = pd.DataFrame()\n",
    "    df_soln_time = pd.DataFrame({'algorithm': [], 'similes': [], 'property':[], 'value': []})\n",
    "    df_different_routes = pd.DataFrame({'algorithm': [], 'similes': [], 'property':[], 'value': []})\n",
    "\n",
    "    #     for name_alg, value_dict  in soln_time_dict.items():\n",
    "    for smiles, value  in soln_time_dict.items():\n",
    "        row_soln_time = {'algorithm': name, 'similes': smiles, 'property':'sol_time', 'value': value}\n",
    "\n",
    "        df_soln_time = pd.concat([df_soln_time, pd.DataFrame([row_soln_time])], ignore_index=True)\n",
    "\n",
    "    #     for name_alg, value_dict  in num_different_routes_dict.items():\n",
    "    for smiles, value  in num_different_routes_dict.items():\n",
    "        row_different_routes = {'algorithm': name, 'similes': smiles, 'property':'diff_routes', 'value': value}\n",
    "\n",
    "        df_different_routes = pd.concat([df_different_routes, pd.DataFrame([row_different_routes])], ignore_index=True)\n",
    "\n",
    "    df_results_tot = pd.concat([df_soln_time, df_different_routes], axis=0)\n",
    "    return df_results_tot\n",
    "\n",
    "\n",
    "\n",
    "df_results_tot = pd.DataFrame({'algorithm': [], 'similes': [], 'property':[], 'value': []})\n",
    "for name in result.keys():\n",
    "    df_results_alg = create_result_df(result, name)\n",
    "    df_results_tot = pd.concat([df_results_tot, df_results_alg], axis=0)\n",
    "    \n",
    "    \n",
    "    \n",
    "    "
   ]
  },
  {
   "cell_type": "markdown",
   "id": "6f0e8c5e",
   "metadata": {},
   "source": [
    "## Load from df_results"
   ]
  },
  {
   "cell_type": "code",
   "execution_count": null,
   "id": "650369f0",
   "metadata": {},
   "outputs": [],
   "source": [
    "# # Load csv\n",
    "# import pandas as pd\n",
    "# import numpy as np\n",
    "\n",
    "# # eventid= \"202305-1310-3717-7e7e984c-8c3e-4a18-ad67-5c4b29743282\"\n",
    "# # output_folder = f\"Results/{eventid}\"\n",
    "\n",
    "# df_results_tot = pd.read_csv(f'{output_folder}/results_all.csv')"
   ]
  },
  {
   "cell_type": "markdown",
   "id": "a4c76de0",
   "metadata": {},
   "source": [
    "## 1. SOLUTIONS"
   ]
  },
  {
   "cell_type": "markdown",
   "id": "fb1f57e3",
   "metadata": {},
   "source": [
    "### 1a. Solution times"
   ]
  },
  {
   "cell_type": "code",
   "execution_count": null,
   "id": "41c4ace5",
   "metadata": {},
   "outputs": [],
   "source": [
    "results_solution_times = df_results_tot.loc[df_results_tot['property']=='sol_time']"
   ]
  },
  {
   "cell_type": "code",
   "execution_count": null,
   "id": "0f9dbe0b",
   "metadata": {},
   "outputs": [],
   "source": [
    "df_result = results_solution_times.copy()"
   ]
  },
  {
   "cell_type": "code",
   "execution_count": null,
   "id": "33fbdfc2",
   "metadata": {},
   "outputs": [],
   "source": [
    "df_result[\"value_is_inf\"] = (df_result['value'] == np.inf) * 1\n"
   ]
  },
  {
   "cell_type": "code",
   "execution_count": null,
   "id": "ab6bca23",
   "metadata": {},
   "outputs": [],
   "source": [
    "df_results_grouped = df_result.groupby([\"algorithm\", \"property\"], as_index=False).agg(nr_mol_not_solved=pd.NamedAgg(column=\"value_is_inf\", aggfunc=\"sum\"))\n",
    "df_results_grouped\n"
   ]
  },
  {
   "cell_type": "code",
   "execution_count": null,
   "id": "e20e2302",
   "metadata": {},
   "outputs": [],
   "source": [
    "df_results_grouped.to_csv(f'{output_folder}/num_mol_not_solved.csv', index=False)"
   ]
  },
  {
   "cell_type": "code",
   "execution_count": null,
   "id": "99f41bbc",
   "metadata": {
    "scrolled": false
   },
   "outputs": [],
   "source": [
    "import plotly.express as px\n",
    "fig = px.box(df_result, x=\"algorithm\", y=\"value\", width=1000, height=600,\n",
    "             labels={\n",
    "#                      \"algorithm\": None,\n",
    "                     \"value\": \"Time to first solution\",\n",
    "#                      \"species\": \"Species of Iris\"\n",
    "                 },\n",
    "#              title=\"Time to first solution\"\n",
    "            )\n",
    "fig.update_layout(xaxis_title=None)\n",
    "fig.update_xaxes(labelalias=labelalias, categoryorder='array', categoryarray=list(labelalias.keys()))\n",
    "fig.write_image(f'{output_folder}/Boxplot_time_first_solution.png') \n",
    "fig.show() "
   ]
  },
  {
   "cell_type": "code",
   "execution_count": null,
   "id": "8c45617f",
   "metadata": {},
   "outputs": [],
   "source": []
  },
  {
   "cell_type": "code",
   "execution_count": null,
   "id": "f22765a6",
   "metadata": {},
   "outputs": [],
   "source": [
    "result.keys()"
   ]
  },
  {
   "cell_type": "markdown",
   "id": "8338d686",
   "metadata": {},
   "source": [
    "### 1b. Solution diversity"
   ]
  },
  {
   "cell_type": "code",
   "execution_count": null,
   "id": "949081f7",
   "metadata": {},
   "outputs": [],
   "source": [
    "results_diff_routes = df_results_tot.loc[df_results_tot['property']=='diff_routes']"
   ]
  },
  {
   "cell_type": "code",
   "execution_count": null,
   "id": "98aac56d",
   "metadata": {},
   "outputs": [],
   "source": [
    "df_result = results_diff_routes.copy()"
   ]
  },
  {
   "cell_type": "code",
   "execution_count": null,
   "id": "1d369fad",
   "metadata": {},
   "outputs": [],
   "source": [
    "df_result[\"value_is_zero\"] = (df_result['value'] == 0) * 1\n"
   ]
  },
  {
   "cell_type": "code",
   "execution_count": null,
   "id": "fdfd569e",
   "metadata": {},
   "outputs": [],
   "source": [
    "df_results_grouped = df_result.groupby([\"algorithm\", \"property\"], as_index=False).agg(nr_mol_not_solved=pd.NamedAgg(column=\"value_is_zero\", aggfunc=\"sum\"))\n",
    "df_results_grouped\n"
   ]
  },
  {
   "cell_type": "code",
   "execution_count": null,
   "id": "140b7f55",
   "metadata": {
    "scrolled": false
   },
   "outputs": [],
   "source": [
    "import plotly.express as px\n",
    "fig = px.box(df_result, x=\"algorithm\", y=\"value\", width=1000, height=600,\n",
    "             labels={\n",
    "                     \"value\": \"Number of different routes\",\n",
    "                 },\n",
    "            )\n",
    "fig.update_layout(xaxis_title=None)\n",
    "fig.update_xaxes(labelalias=labelalias, categoryorder='array', categoryarray=list(labelalias.keys()))\n",
    "fig.write_image(f'{output_folder}/Boxplot_num_different_routes.png')\n",
    "fig.show() "
   ]
  },
  {
   "cell_type": "code",
   "execution_count": null,
   "id": "a26d63fe",
   "metadata": {},
   "outputs": [],
   "source": [
    "fig = px.box(df_result.loc[df_result['value']!=0], x=\"algorithm\", y=\"value\", \n",
    "             width=1000, height=600,\n",
    "             labels={\n",
    "                     \"value\": \"Number of different routes (removing zeros)\",\n",
    "                 },\n",
    "            )\n",
    "\n",
    "fig.update_layout(xaxis_title=None)\n",
    "fig.update_xaxes(labelalias=labelalias, categoryorder='array', categoryarray=list(labelalias.keys()))\n",
    "fig.write_image(f'{output_folder}/Boxplot_num_different_routes_no_zero.png') \n",
    "fig.show() \n"
   ]
  },
  {
   "cell_type": "code",
   "execution_count": null,
   "id": "65098c34",
   "metadata": {},
   "outputs": [],
   "source": []
  },
  {
   "cell_type": "markdown",
   "id": "13d6377b",
   "metadata": {},
   "source": [
    "## 2. CORRELATION: value function - actual cost"
   ]
  },
  {
   "cell_type": "code",
   "execution_count": null,
   "id": "9f75c350",
   "metadata": {},
   "outputs": [],
   "source": [
    "# algs_to_consider = list(result.keys())\n",
    "algs_to_consider = ['Tanimoto-distance-TIMES10']\n",
    "\n",
    "algs_string = '_'.join(algs_to_consider)\n",
    "algs_string"
   ]
  },
  {
   "cell_type": "code",
   "execution_count": null,
   "id": "b3740495",
   "metadata": {},
   "outputs": [],
   "source": []
  },
  {
   "cell_type": "markdown",
   "id": "86330db3",
   "metadata": {},
   "source": [
    "### 2a. Assign costs"
   ]
  },
  {
   "cell_type": "code",
   "execution_count": null,
   "id": "f14ac831",
   "metadata": {},
   "outputs": [],
   "source": [
    "from syntheseus.search.graph.and_or import AndNode\n",
    "\n",
    "\n",
    "cost_type = \"cost_1_react\"\n",
    "# cost_type = \"cost_react_from_data\"\n",
    "# cost_type = \"cost_react_from_data_pow01\"\n",
    "\n",
    "for name in algs_to_consider:    \n",
    "    if cost_type == \"cost_1_react\": \n",
    "        for target_smiles, graph in result[name].output_graph_dict.items():\n",
    "            for node in graph._graph.nodes():\n",
    "                    if isinstance(node, (AndNode,)):\n",
    "                        node.data[\"route_cost\"] = 1.0\n",
    "                    else:\n",
    "                        node.data[\"route_cost\"] = 0.0\n",
    "    elif cost_type == \"cost_react_from_data\": \n",
    "        for target_smiles, graph in result[name].output_graph_dict.items():   \n",
    "#             # 1. Set reaction costs (should be already done by the algorithm)\n",
    "#             and_nodes=[\n",
    "#                     node\n",
    "#                     for node in graph._graph.nodes()\n",
    "#                     if isinstance(node, AndNode) and \"retro_star_rxn_cost\" not in node.data\n",
    "#                 ]\n",
    "#             costs = and_node_cost_fn(and_nodes, graph=graph)\n",
    "#             assert len(costs) == len(and_nodes)\n",
    "#             for node, cost in zip(and_nodes, costs):\n",
    "#                 node.data[\"retro_star_rxn_cost\"] = cost\n",
    "            # 2. Set route costs equal to reaction costs\n",
    "            for node in graph._graph.nodes():\n",
    "                    if isinstance(node, (AndNode,)):\n",
    "                        node.data[\"route_cost\"] = node.data[\"retro_star_rxn_cost\"]\n",
    "                    else:\n",
    "                        node.data[\"route_cost\"] = 0.0\n",
    "    elif cost_type == \"cost_react_from_data_pow01\": \n",
    "        for target_smiles, graph in result[name].output_graph_dict.items():   \n",
    "            for node in graph._graph.nodes():\n",
    "                    if isinstance(node, (AndNode,)):\n",
    "                        node.data[\"route_cost\"] = np.power(node.data[\"retro_star_rxn_cost\"], 0.1)\n",
    "                    else:\n",
    "                        node.data[\"route_cost\"] = 0.0\n",
    "\n",
    "\n",
    "    else:\n",
    "        raise NotImplementedError(f'Cost type {cost_type}')"
   ]
  },
  {
   "cell_type": "markdown",
   "id": "04e2c807",
   "metadata": {},
   "source": [
    "### 2b. Create dataframe with values and costs"
   ]
  },
  {
   "cell_type": "code",
   "execution_count": null,
   "id": "1d055b93",
   "metadata": {},
   "outputs": [],
   "source": [
    "from syntheseus.search.analysis import route_extraction\n",
    "from syntheseus.search import visualization\n",
    "from syntheseus.search.analysis.route_extraction import _min_route_cost, _min_route_partial_cost\n",
    "from syntheseus.search.graph.base_graph import RetrosynthesisSearchGraph\n",
    "import networkx as nx\n",
    "\n",
    "import heapq\n",
    "import math\n",
    "from collections.abc import Collection, Iterator\n",
    "from syntheseus.search.graph.and_or import AndOrGraph, OrNode\n",
    "from typing import Callable, Optional, TypeVar\n",
    "\n",
    "from syntheseus.search.graph.node import BaseGraphNode\n",
    "\n",
    "NodeType = TypeVar(\"NodeType\", bound=BaseGraphNode)\n",
    "\n",
    "# def get_descendants(graph, node):\n",
    "#     descendants_set = set(graph.successors(node))\n",
    "#     for graph.successors(node)\n",
    "\n",
    "\n",
    "def custom_cost_min_route(\n",
    "    graph: RetrosynthesisSearchGraph,\n",
    "    start_node,\n",
    "    cost_fn: Callable[[Collection[NodeType], RetrosynthesisSearchGraph[NodeType]], float],\n",
    "    cost_lower_bound: Callable[[Collection[NodeType], RetrosynthesisSearchGraph[NodeType]], float],\n",
    "    max_routes: int,\n",
    "    yield_partial_routes: bool = False,\n",
    ") -> Iterator[tuple[float, Collection[NodeType]]]:\n",
    "    \"\"\"\n",
    "    Iterator over the minimal trees (routes) with lowest cost.\n",
    "    This can be done efficiently given a lower bound on the cost.\n",
    "\n",
    "    NOTE: it is not clear whether this function is the best way to extract routes,\n",
    "    and if in general it is guaranteed to not return the same route twice. We think\n",
    "    this is the case but are not sure in general.\n",
    "\n",
    "    Args:\n",
    "        graph: graph to iterate over. Could be tree, but does not need to be.\n",
    "        cost_fn: Gives the cost of a route (specified by the set of nodes).\n",
    "            A cost of inf means the route will not be returned.\n",
    "        cost_lower_bound: A lower bound of the cost. The lower bound means that\n",
    "            if the function is evaluated on a set A, the cost of a set B >= A\n",
    "            will always exceed this lower bound.\n",
    "            This function will always be evaluated on partial routes.\n",
    "        max_routes: Maximum number of routes to return.\n",
    "        yield_partial_routes: if True, will yield routes whose leaves\n",
    "            have children in the full graph. This could be useful if, for example,\n",
    "            there are purchasable molecules which have children.\n",
    "            Typically this will be undesirable though.\n",
    "\n",
    "    Yields:\n",
    "        Tuples of cost, route nodes.\n",
    "    \"\"\"\n",
    "\n",
    "    # Initialize priority queue\n",
    "    # items are: cost, whether the cost is the true cost or a lower bound,\n",
    "    # tie-breaking integer (since sets cannot be ordered),\n",
    "    # set of nodes in partial route, list of nodes on the route's frontier\n",
    "    \n",
    "    \n",
    "    ### CHANGE START ###\n",
    "#     queue: list[tuple[float, bool, int, set[NodeType], list[NodeType]]] = [\n",
    "#         (-math.inf, False, 0, {graph.root_node}, [graph.root_node])\n",
    "#     ]\n",
    "    queue: list[tuple[float, bool, int, set[NodeType], list[NodeType]]] = [\n",
    "        (-math.inf, False, 0, {start_node}, [start_node])\n",
    "    ]\n",
    "    ### END CHANGE ###\n",
    "    tie_breaker = 1\n",
    "\n",
    "    # Do best-first search\n",
    "    num_routes_yielded = 0\n",
    "    while len(queue) > 0 and num_routes_yielded < max_routes:\n",
    "        # Pop route\n",
    "        cost, is_true_cost, _, partial_route, route_frontier = heapq.heappop(queue)\n",
    "        assert cost < math.inf, \"Infinite cost routes should not be in the queue.\"\n",
    "\n",
    "        # Scenario 1: if it is a full route, then yield it,\n",
    "        # because its cost must be lower than the partial cost of all other routes.\n",
    "        if is_true_cost:\n",
    "            assert len(route_frontier) == 0\n",
    "            return (cost, partial_route)\n",
    "            num_routes_yielded += 1\n",
    "        else:\n",
    "            # Choose the first node in the frontier to be \"expanded\"\n",
    "            # and re-add to the queue\n",
    "            assert len(route_frontier) > 0\n",
    "            node_to_expand = route_frontier[0]\n",
    "            remaining_frontier = route_frontier[1:]\n",
    "            possible_new_routes: list[tuple[set[NodeType], list[NodeType]]] = []\n",
    "\n",
    "            # Potentially add this node without any of its children\n",
    "            if len(list(graph.successors(node_to_expand))) == 0 or yield_partial_routes:\n",
    "                possible_new_routes.append((partial_route, remaining_frontier))\n",
    "\n",
    "            # Add all children routes, 1 at a time\n",
    "            if isinstance(node_to_expand, OrNode):\n",
    "                # For AND/OR trees, add each And Child and all of its children\n",
    "                for and_child in graph.successors(node_to_expand):\n",
    "                    and_child_children = list(graph.successors(and_child))\n",
    "                    new_partial_route = partial_route | {and_child} | set(and_child_children)\n",
    "                    # New frontier excludes nodes already in partial route which would either already be expanded\n",
    "                    # or be in the frontier already\n",
    "                    new_frontier = remaining_frontier + [\n",
    "                        n for n in and_child_children if n not in partial_route\n",
    "                    ]\n",
    "                    possible_new_routes.append((new_partial_route, new_frontier))\n",
    "#             elif isinstance(node_to_expand, MolSetNode):\n",
    "#                 # For MolSet graphs, add each child individually\n",
    "#                 for child in graph.successors(node_to_expand):\n",
    "#                     new_partial_route = partial_route | {child}\n",
    "#                     new_frontier = list(remaining_frontier)\n",
    "#                     if child not in partial_route:\n",
    "#                         new_frontier.append(child)\n",
    "#                     possible_new_routes.append((new_partial_route, new_frontier))\n",
    "            else:\n",
    "                raise TypeError(f\"Unknown node type {type(node_to_expand)}.\")\n",
    "\n",
    "            # Add all possible routes onto the queue\n",
    "            for new_partial_route, new_frontier in possible_new_routes:\n",
    "                if len(new_frontier) == 0:\n",
    "                    new_cost = cost_fn(new_partial_route, graph)\n",
    "                    assert new_cost >= cost, \"lower bound not satisfied\"\n",
    "                    new_cost_is_full = True\n",
    "                else:\n",
    "                    new_cost = cost_lower_bound(new_partial_route, graph)\n",
    "                    new_cost_is_full = False\n",
    "\n",
    "                if new_cost < math.inf:\n",
    "                    heapq.heappush(\n",
    "                        queue,\n",
    "                        (new_cost, new_cost_is_full, tie_breaker, new_partial_route, new_frontier),\n",
    "                    )\n",
    "                    tie_breaker += 1\n",
    "\n",
    "\n",
    "# def reachable_nodes(G, n):\n",
    "#     \"\"\"\n",
    "#     Returns the set of nodes that can be reached starting from node n in graph G.\n",
    "#     \"\"\"\n",
    "#     visited = set()  # Set to keep track of visited nodes\n",
    "#     stack = [n]  # Stack to keep track of nodes to explore\n",
    "    \n",
    "#     while stack:\n",
    "#         node = stack.pop()\n",
    "#         visited.add(node)\n",
    "#         successors = G.successors(node)\n",
    "#         for s in successors:\n",
    "#             if s not in visited:\n",
    "#                 stack.append(s)\n",
    "    \n",
    "#     return visited\n",
    "\n",
    "rows = []\n",
    "for name in algs_to_consider:    \n",
    "    output_graph_dict = result[name].output_graph_dict\n",
    "    for target_smiles, graph in output_graph_dict.items():\n",
    "        for node in graph._graph.nodes:\n",
    "            if isinstance(node, OrNode): # Molecule \n",
    "                row_data = {'name': name,\n",
    "                            'smiles': node.mol.smiles,\n",
    "                            'is_purchasable': node.mol.metadata[\"is_purchasable\"],\n",
    "                            'node_is_expanded': node.is_expanded,\n",
    "                            'node_depth': node.depth\n",
    "                           }\n",
    "                row_data.update(node.data) \n",
    "                # Compute minimal cost\n",
    "#                 # 1. Create subgraph from current node\n",
    "#                 # Get the set of descendants of the start node\n",
    "# #                 descendants = set(nx.descendants(graph, node))\n",
    "#                 descendants = reachable_nodes(graph, node)\n",
    "#                 # Add the start node itself to the set of descendants\n",
    "#                 descendants.add(node)\n",
    "#                 # Create the subgraph from the descendants\n",
    "#                 subgraph = graph._graph.subgraph(descendants)\n",
    "\n",
    "#                 # 2. Compute min cost routes\n",
    "#                 min_cost_route = route_extraction.min_cost_routes(subgraph, max_routes=1)\n",
    "#                 min_cost = _min_route_cost(min_cost_route, subgraph)\n",
    "#                 \n",
    "                min_route_result = custom_cost_min_route(\n",
    "                    graph=graph,\n",
    "                    start_node=node,\n",
    "                    cost_fn=_min_route_cost,\n",
    "                    cost_lower_bound=_min_route_partial_cost,\n",
    "                    max_routes=1,\n",
    "                    yield_partial_routes= False,\n",
    "                )\n",
    "                if min_route_result is not None:\n",
    "                    min_cost, min_cost_route = min_route_result\n",
    "                else:\n",
    "                    min_cost = np.inf\n",
    "                row_data.update({'minimal_cost_forward': min_cost})\n",
    "                rows = rows + [row_data]\n",
    "df_nodes = pd.DataFrame(rows)                \n",
    "        \n",
    "df_nodes"
   ]
  },
  {
   "cell_type": "code",
   "execution_count": null,
   "id": "fb80f1ea",
   "metadata": {},
   "outputs": [],
   "source": [
    "df_nodes['is_solved'] = (df_nodes['first_solution_time'] != np.inf)*1.0\n",
    "df_nodes['is_purchasable'] = (df_nodes['is_purchasable'])*1.0\n",
    "\n",
    "df_nodes['node_is_expanded'] = (df_nodes['node_is_expanded'])*1.0\n",
    "\n"
   ]
  },
  {
   "cell_type": "code",
   "execution_count": null,
   "id": "7a203433",
   "metadata": {},
   "outputs": [],
   "source": [
    "df_nodes['is_solved'] = (df_nodes['first_solution_time'] != np.inf)*1.0\n",
    "df_nodes['is_purchasable'] = (df_nodes['is_purchasable'])*1.0\n",
    "df_nodes['node_is_expanded'] = (df_nodes['node_is_expanded'])*1.0\n",
    "\n"
   ]
  },
  {
   "cell_type": "markdown",
   "id": "452000f7",
   "metadata": {},
   "source": [
    "##### Save result"
   ]
  },
  {
   "cell_type": "code",
   "execution_count": null,
   "id": "def41b61",
   "metadata": {},
   "outputs": [],
   "source": [
    "df_nodes.to_csv(f'{output_folder}/{algs_string}_df_nodes.csv', index=False)\n",
    "\n"
   ]
  },
  {
   "cell_type": "code",
   "execution_count": null,
   "id": "4e5de56f",
   "metadata": {},
   "outputs": [],
   "source": [
    "# select_algorithm = 'Tanimoto-distance-TIMES10'\n",
    "\n",
    "df_nodes_red = df_nodes.loc[df_nodes['name'].isin(algs_to_consider)]\n",
    "\n",
    "solved_mask = df_nodes_red['is_solved']==1.0\n",
    "df_nodes_red_solved = df_nodes_red.loc[solved_mask]\n",
    "df_nodes_red_not_solved = df_nodes_red.loc[~solved_mask]\n",
    "\n",
    "x_axis_var = 'minimal_cost_forward'\n",
    "# y_axis_var = 'retro_star_value'\n",
    "# y_axis_var = 'reaction_number'\n",
    "y_axis_var = 'reaction_number_estimate'\n",
    "\n",
    "\n",
    "df_nodes_red['x_var_inf'] = (df_nodes_red[x_axis_var] == np.inf)*1.0\n",
    "df_nodes_red['y_var_inf'] = (df_nodes_red[y_axis_var] == np.inf)*1.0\n"
   ]
  },
  {
   "cell_type": "markdown",
   "id": "0ad5ebf3",
   "metadata": {},
   "source": [
    "#### Molecule solved - Molecule cost"
   ]
  },
  {
   "cell_type": "code",
   "execution_count": null,
   "id": "8eb90b73",
   "metadata": {},
   "outputs": [],
   "source": [
    "df_nodes_red.groupby(['is_solved', 'x_var_inf']).agg(\n",
    "    count=pd.NamedAgg(column=\"smiles\", aggfunc=\"count\"))\n"
   ]
  },
  {
   "cell_type": "code",
   "execution_count": null,
   "id": "59274cb8",
   "metadata": {},
   "outputs": [],
   "source": [
    "fig = px.box(df_nodes_red, y=y_axis_var, x= 'is_purchasable', color='node_is_expanded', #points=\"all\", \n",
    "             width=1000, height=600,\n",
    "             labels={\n",
    "#                      \"value\": \"Number of different routes (removing zeros)\",\n",
    "                 },\n",
    "            )\n",
    "\n",
    "# fig.update_layout(xaxis_title=None)\n",
    "# fig.update_xaxes(labelalias=labelalias, categoryorder='array', categoryarray=list(labelalias.keys()))\n",
    "fig.write_image(f'{output_folder}/{x_axis_var}_{algs_string}_solved_not_solved.png') \n",
    "fig.show() \n",
    "\n"
   ]
  },
  {
   "cell_type": "markdown",
   "id": "2c9f284c",
   "metadata": {},
   "source": [
    "#### Molecule solved - Molecule value"
   ]
  },
  {
   "cell_type": "code",
   "execution_count": null,
   "id": "60cde2a9",
   "metadata": {},
   "outputs": [],
   "source": [
    "df_nodes_red.groupby(['is_solved', 'y_var_inf']).agg(\n",
    "    count=pd.NamedAgg(column=\"smiles\", aggfunc=\"count\"))\n",
    "\n"
   ]
  },
  {
   "cell_type": "code",
   "execution_count": null,
   "id": "8cb23b3e",
   "metadata": {},
   "outputs": [],
   "source": [
    "# import plotly.express as px\n",
    "\n",
    "\n",
    "# fig = px.box(df_nodes_red_solved, y=x_axis_var, \n",
    "#              width=1000, height=600,\n",
    "#              labels={\n",
    "# #                      \"value\": \"Number of different routes (removing zeros)\",\n",
    "#                  },\n",
    "#             )\n",
    "\n",
    "# # fig.update_layout(xaxis_title=None)\n",
    "# # fig.update_xaxes(labelalias=labelalias, categoryorder='array', categoryarray=list(labelalias.keys()))\n",
    "# # fig.write_image(f'{output_folder}/Correlation_{x_axis_var}_{y_axis_var}.png') \n",
    "# fig.show()"
   ]
  },
  {
   "cell_type": "code",
   "execution_count": null,
   "id": "8a484619",
   "metadata": {},
   "outputs": [],
   "source": [
    "fig = px.box(df_nodes_red, y=y_axis_var, x= 'is_solved', color='is_purchasable',\n",
    "             width=1000, height=600,\n",
    "             labels={\n",
    "#                      \"value\": \"Number of different routes (removing zeros)\",\n",
    "                 },\n",
    "            )\n",
    "\n",
    "# fig.update_layout(xaxis_title=None)\n",
    "# fig.update_xaxes(labelalias=labelalias, categoryorder='array', categoryarray=list(labelalias.keys()))\n",
    "fig.write_image(f'{output_folder}/{y_axis_var}_{algs_string}_solved_not_solved.png') \n",
    "fig.show() \n",
    "\n"
   ]
  },
  {
   "cell_type": "code",
   "execution_count": null,
   "id": "8769dedf",
   "metadata": {},
   "outputs": [],
   "source": [
    "# fig = px.box(df_nodes_red_not_solved, y=y_axis_var, \n",
    "#              width=1000, height=600,\n",
    "#              labels={\n",
    "# #                      \"value\": \"Number of different routes (removing zeros)\",\n",
    "#                  },\n",
    "#             )\n",
    "\n",
    "# # fig.update_layout(xaxis_title=None)\n",
    "# # fig.update_xaxes(labelalias=labelalias, categoryorder='array', categoryarray=list(labelalias.keys()))\n",
    "# # fig.write_image(f'{output_folder}/Correlation_{x_axis_var}_{y_axis_var}.png') \n",
    "# fig.show() \n",
    "\n",
    "\n",
    "\n",
    "\n"
   ]
  },
  {
   "cell_type": "markdown",
   "id": "f670fd91",
   "metadata": {},
   "source": [
    "#### Correlation molecule cost and value"
   ]
  },
  {
   "cell_type": "code",
   "execution_count": null,
   "id": "208005f2",
   "metadata": {},
   "outputs": [],
   "source": [
    "import dash\n",
    "from dash import dcc, html\n",
    "from dash.dependencies import Input, Output\n",
    "import plotly.express as px\n",
    "\n",
    "# # Sample DataFrame for demonstration\n",
    "# df_nodes_red = pd.DataFrame({'minimal_cost_forward': [1, 2, 3],\n",
    "#                              'reaction_number': [4, 5, 6],\n",
    "#                              'reaction_number_estimate': [7, 8, 9],\n",
    "#                              'is_solved': ['X', 'Y', 'X'],\n",
    "#                              'is_purchasable': ['M', 'N', 'M'],\n",
    "#                              'retro_star_value': [10, 11, 12]})\n",
    "\n",
    "app = dash.Dash(__name__)\n",
    "\n",
    "app.layout = html.Div([\n",
    "    dcc.Dropdown(\n",
    "        id='x-axis-dropdown',\n",
    "        options=[{'label': col, 'value': col} for col in df_nodes_red.columns],\n",
    "        value='minimal_cost_forward',\n",
    "        placeholder='Select X-axis variable'\n",
    "    ),\n",
    "    dcc.Dropdown(\n",
    "        id='y-axis-dropdown',\n",
    "        options=[{'label': 'Reaction Number', 'value': 'reaction_number'},\n",
    "                 {'label': 'Reaction Number Estimate', 'value': 'reaction_number_estimate'},\n",
    "                 {'label': 'Retro Star Value', 'value': 'retro_star_value'}],\n",
    "        value='reaction_number',\n",
    "        placeholder='Select Y-axis variable'\n",
    "    ),\n",
    "    html.Label('Filter by value in column \"is_solved\":'),\n",
    "    dcc.RadioItems(\n",
    "        id='filter-radio-is-solved',\n",
    "        options=[{'label': val, 'value': val} for val in df_nodes_red['is_solved'].unique()],\n",
    "        value=None,\n",
    "        labelStyle={'display': 'block'}\n",
    "    ),\n",
    "    html.Label('Filter by value in column \"is_purchasable\":'),\n",
    "    dcc.RadioItems(\n",
    "        id='filter-radio-is-purchasable',\n",
    "        options=[{'label': val, 'value': val} for val in df_nodes_red['is_purchasable'].unique()],\n",
    "        value=None,\n",
    "        labelStyle={'display': 'block'}\n",
    "    ),\n",
    "    dcc.RadioItems(\n",
    "        id='color-column-radio',\n",
    "        options=[\n",
    "            {'label': 'Same color for all points', 'value': 'same_color'},\n",
    "            {'label': 'Color by \"is_solved\" column', 'value': 'is_solved'},\n",
    "            {'label': 'Color by \"is_purchasable\" column', 'value': 'is_purchasable'},\n",
    "            {'label': 'Color by \"node_depth\" column', 'value': 'node_depth'}\n",
    "        ],\n",
    "        value='same_color',\n",
    "        labelStyle={'display': 'block'}\n",
    "    ),\n",
    "    dcc.Graph(id='scatter-plot')\n",
    "])\n",
    "\n",
    "@app.callback(\n",
    "    Output('scatter-plot', 'figure'),\n",
    "    Input('x-axis-dropdown', 'value'),\n",
    "    Input('y-axis-dropdown', 'value'),\n",
    "    Input('filter-radio-is-solved', 'value'),\n",
    "    Input('filter-radio-is-purchasable', 'value'),\n",
    "    Input('color-column-radio', 'value')\n",
    ")\n",
    "\n",
    "def update_scatter_plot(x_axis_var, y_axis_var, filter_value_solved, filter_value_purchasable, color_option):\n",
    "    filtered_df = df_nodes_red.copy()\n",
    "\n",
    "    if filter_value_solved:\n",
    "        filtered_df = filtered_df[filtered_df['is_solved'] == filter_value_solved]\n",
    "\n",
    "    if filter_value_purchasable:\n",
    "        filtered_df = filtered_df[filtered_df['is_purchasable'] == filter_value_purchasable]\n",
    "\n",
    "    hover_data = {x: True for x in df_nodes_red.columns}\n",
    "\n",
    "#     color_discrete_map = None\n",
    "    if color_option == 'same_color':\n",
    "        color = None\n",
    "    elif color_option in ['is_solved', 'is_purchasable']:\n",
    "        filtered_df[color_option] = filtered_df[color_option].astype(str)\n",
    "        color = color_option\n",
    "#         color_discrete_map = {'0': 'red', '1': 'blue'}  # Define desired colors for each unique value of 'is_solved'\n",
    "#     elif color_option == 'is_purchasable':\n",
    "#         color_discrete_map = {'0': 'red', '1': 'blue'}  # Define desired colors for each unique value of 'is_purchasable'\n",
    "    fig = px.scatter(filtered_df, x=x_axis_var, y=y_axis_var, hover_data=hover_data, \n",
    "                     color=color,\n",
    "                     width=1000, height=600)\n",
    "#     fig = px.scatter(filtered_df, x=x_axis_var, y=y_axis_var, hover_data=hover_data,\n",
    "#                      color=color_option, color_discrete_map=color_discrete_map,\n",
    "#                      width=1000, height=600)\n",
    "\n",
    "    return fig\n",
    "\n",
    "if __name__ == '__main__':\n",
    "    app.run_server(port=8049, use_reloader=False, debug=True)"
   ]
  },
  {
   "cell_type": "code",
   "execution_count": null,
   "id": "d0e78529",
   "metadata": {},
   "outputs": [],
   "source": []
  },
  {
   "cell_type": "code",
   "execution_count": null,
   "id": "aad7523b",
   "metadata": {},
   "outputs": [],
   "source": []
  },
  {
   "cell_type": "code",
   "execution_count": null,
   "id": "ab473b35",
   "metadata": {},
   "outputs": [],
   "source": []
  }
 ],
 "metadata": {
  "kernelspec": {
   "display_name": "Python 3 (ipykernel)",
   "language": "python",
   "name": "python3"
  },
  "language_info": {
   "codemirror_mode": {
    "name": "ipython",
    "version": 3
   },
   "file_extension": ".py",
   "mimetype": "text/x-python",
   "name": "python",
   "nbconvert_exporter": "python",
   "pygments_lexer": "ipython3",
   "version": "3.10.8"
  }
 },
 "nbformat": 4,
 "nbformat_minor": 5
}
