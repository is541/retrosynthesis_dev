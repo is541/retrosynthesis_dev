{
 "cells": [
  {
   "cell_type": "code",
   "execution_count": null,
   "id": "57d0bc0e",
   "metadata": {},
   "outputs": [],
   "source": [
    "import pickle\n",
    "import os\n",
    "from tqdm.auto import tqdm\n",
    "from syntheseus.search.graph.message_passing import run_message_passing\n",
    "from syntheseus.search.analysis.tree_solution_counting import num_solutions_update\n",
    "from syntheseus.search.analysis.route_extraction import min_cost_routes\n",
    "from syntheseus.search.graph.and_or import OrNode, AndNode\n",
    "from syntheseus.search.analysis.route_extraction import _iter_top_routes, _min_route_cost, _min_route_partial_cost\n",
    "\n",
    "from syntheseus.search import visualization\n"
   ]
  },
  {
   "cell_type": "markdown",
   "id": "e79a1bcf",
   "metadata": {},
   "source": [
    "## Settings"
   ]
  },
  {
   "cell_type": "code",
   "execution_count": null,
   "id": "e3f9919c",
   "metadata": {},
   "outputs": [],
   "source": [
    "input_folder = 'graphs'\n",
    "output_file = f'{input_folder}/output_df.csv'\n",
    "\n",
    "num_top_routes_to_extract = 3\n",
    "\n",
    "\n",
    "cost_type = \"cost_1_react\"\n",
    "# cost_type = \"cost_react_from_data\"\n",
    "# cost_type = \"cost_react_from_data_pow01\"\n",
    "\n"
   ]
  },
  {
   "cell_type": "markdown",
   "id": "80f2a54c",
   "metadata": {},
   "source": [
    "## Auxiliary functions"
   ]
  },
  {
   "cell_type": "code",
   "execution_count": null,
   "id": "8fb77451",
   "metadata": {},
   "outputs": [],
   "source": [
    "def custom_assign_cost(graph, cost_type):\n",
    "    if cost_type == \"cost_1_react\": \n",
    "        for node in graph._graph.nodes():\n",
    "                if isinstance(node, (AndNode,)):\n",
    "                    node.data[\"route_cost\"] = 1.0\n",
    "                else:\n",
    "                    node.data[\"route_cost\"] = 0.0\n",
    "    elif cost_type == \"cost_react_from_data\": \n",
    "        for node in graph._graph.nodes():\n",
    "                if isinstance(node, (AndNode,)):\n",
    "                    node.data[\"route_cost\"] = node.data[\"retro_star_rxn_cost\"]\n",
    "                else:\n",
    "                    node.data[\"route_cost\"] = 0.0\n",
    "    elif cost_type == \"cost_react_from_data_pow01\": \n",
    "        for node in graph._graph.nodes():\n",
    "                if isinstance(node, (AndNode,)):\n",
    "                    node.data[\"route_cost\"] = np.power(node.data[\"retro_star_rxn_cost\"], 0.1)\n",
    "                else:\n",
    "                    node.data[\"route_cost\"] = 0.0\n",
    "    else:\n",
    "        raise NotImplementedError(f'Cost type {cost_type}')\n",
    "    \n",
    "    return output_graph\n"
   ]
  },
  {
   "cell_type": "code",
   "execution_count": null,
   "id": "7c77125c",
   "metadata": {},
   "outputs": [],
   "source": [
    "def compute_cost_below_node(node, graph, route, total):\n",
    "    successors = graph.successors(node)\n",
    "\n",
    "    if successors is None:\n",
    "        return total\n",
    "\n",
    "    for successor in successors:\n",
    "        if successor in route:\n",
    "            if isinstance(successor, (AndNode,)):\n",
    "                total += 1\n",
    "            else:\n",
    "                total += 0\n",
    "            total = compute_cost_below_node(successor, graph, route, total)\n",
    "\n",
    "    return total\n"
   ]
  },
  {
   "cell_type": "markdown",
   "id": "0152e875",
   "metadata": {},
   "source": [
    "## Run "
   ]
  },
  {
   "cell_type": "code",
   "execution_count": null,
   "id": "d1b75df4",
   "metadata": {},
   "outputs": [],
   "source": [
    "with open(output_file, \"w\") as f:\n",
    "    f.write(\n",
    "            \"target_smiles,n_routes_found,route_rank,route_cost,\"\n",
    "            \"intermediate_smiles,intermediate_is_purchasable,\"\n",
    "            \"intermediate_parent,intermediate_depth,intermediate_cost_below\\n\"\n",
    "        )\n",
    "    smiles_id = 0\n",
    "    for file_name in tqdm([file for file in os.listdir(input_folder) if 'pickle' in file]):\n",
    "        with open(f'{input_folder}/{file_name}', 'rb') as handle:\n",
    "            for smiles, output_graph in (pickle.load(handle)).items():\n",
    "                assert smiles==output_graph.root_node.mol.smiles, f\"smiles: {smiles} is different from root node smiles: {output_graph.root_node.mol.smiles}\"\n",
    "                \n",
    "                # Count routes (pull from syntheseus)\n",
    "                run_message_passing(\n",
    "                    graph=output_graph,\n",
    "                    nodes=sorted(output_graph.nodes(), key=lambda node: node.depth, reverse=True),\n",
    "                    update_fns=[num_solutions_update,],  # type: ignore[list-item]  # confusion about AndOrGraph type\n",
    "                    update_predecessors=True,\n",
    "                    update_successors=False,\n",
    "                )\n",
    "                n_routes_found = output_graph.root_node.data[\"num_routes\"]\n",
    "                assert (output_graph.root_node.has_solution & n_routes_found > 0) | ((not output_graph.root_node.has_solution) & n_routes_found == 0)\n",
    "                if n_routes_found > 0:\n",
    "                    # Assign costs and extract top routes \n",
    "                    # CHECK is there a more efficient implementation using message_passing instead of custom_assign_cost?\n",
    "                    output_graph = custom_assign_cost(output_graph, cost_type)\n",
    "\n",
    "\n",
    "                    for route_rank, (route_cost, route) in enumerate(_iter_top_routes(\n",
    "                        graph=output_graph,\n",
    "                        cost_fn=_min_route_cost,\n",
    "                        cost_lower_bound=_min_route_partial_cost,\n",
    "                        max_routes=num_top_routes_to_extract,\n",
    "                        yield_partial_routes=False,\n",
    "                    )):\n",
    "#                         # Visualise route\n",
    "#                         visualization.visualize_andor(\n",
    "#                             graph=output_graph,\n",
    "#                             filename=f\"graphs/smiles_{smiles_id}_{route_rank+1}.pdf\",\n",
    "#                             nodes=route,\n",
    "#                         )\n",
    "                        # Iterate trough the route\n",
    "                        for node in route:\n",
    "                            if isinstance(node, OrNode):\n",
    "                                intermediate_smiles = node.mol.smiles\n",
    "                                intermediate_is_purchasable = node.mol.metadata.get(\"is_purchasable\")\n",
    "                                intermediate_depth = node.depth\n",
    "                                \n",
    "                                if intermediate_depth > 0:\n",
    "                                    intermediate_parent = next(output_graph.predecessors(next(output_graph.predecessors(node)))).mol.smiles\n",
    "                                else:\n",
    "                                    intermediate_parent = \"\"\n",
    "                                intermediate_cost_below = compute_cost_below_node(node=node,graph=output_graph, route=route, total=0)\n",
    "\n",
    "                                output_str = (\n",
    "                                    f\"{smiles},{n_routes_found},{route_rank+1},{route_cost},\"\n",
    "                                    f\"{intermediate_smiles},{intermediate_is_purchasable},\"\n",
    "                                    f\"{intermediate_parent},{intermediate_depth},{intermediate_cost_below}\\n\"\n",
    "                                )\n",
    "                                f.write(output_str)\n",
    "                                f.flush()\n",
    "                    else:\n",
    "                        output_str = (\n",
    "                            f\"{smiles},{n_routes_found},,,\"\n",
    "                            f\",,\"\n",
    "                            f\",,\\n\"\n",
    "                        )\n",
    "                        f.write(output_str)\n",
    "                        f.flush()\n",
    "                        \n",
    "                    smiles_id +=1\n",
    "                        \n",
    "                \n",
    "\n",
    "        "
   ]
  },
  {
   "cell_type": "code",
   "execution_count": null,
   "id": "96740eb8",
   "metadata": {},
   "outputs": [],
   "source": []
  }
 ],
 "metadata": {
  "kernelspec": {
   "display_name": "Python 3 (ipykernel)",
   "language": "python",
   "name": "python3"
  },
  "language_info": {
   "codemirror_mode": {
    "name": "ipython",
    "version": 3
   },
   "file_extension": ".py",
   "mimetype": "text/x-python",
   "name": "python",
   "nbconvert_exporter": "python",
   "pygments_lexer": "ipython3",
   "version": "3.10.8"
  }
 },
 "nbformat": 4,
 "nbformat_minor": 5
}
