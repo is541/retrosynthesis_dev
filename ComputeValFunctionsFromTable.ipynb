{
 "cells": [
  {
   "cell_type": "code",
   "execution_count": null,
   "id": "6d28dd03",
   "metadata": {},
   "outputs": [],
   "source": [
    "import pandas as pd\n",
    "import os\n",
    "\n",
    "from syntheseus.search.chem import Molecule\n",
    "from syntheseus.search.graph.and_or import AndNode\n",
    "from syntheseus.search.algorithms.best_first.retro_star import RetroStarSearch, MolIsPurchasableCost\n",
    "from syntheseus.search.analysis.solution_time import get_first_solution_time\n",
    "from syntheseus.search.analysis.route_extraction import min_cost_routes\n",
    "from syntheseus.search.reaction_models.base import BackwardReactionModel\n",
    "from syntheseus.search.mol_inventory import BaseMolInventory\n",
    "from syntheseus.search.node_evaluation.base import (\n",
    "    BaseNodeEvaluator,\n",
    "    NoCacheNodeEvaluator,\n",
    ")\n",
    "from syntheseus.search.node_evaluation.common import ConstantNodeEvaluator\n",
    "\n",
    "from paroutes import PaRoutesInventory, PaRoutesModel, get_target_smiles\n",
    "\n"
   ]
  },
  {
   "cell_type": "code",
   "execution_count": null,
   "id": "fcd018d5",
   "metadata": {},
   "outputs": [],
   "source": [
    "input_folder = '20230524_1010'\n",
    "output_folder = f'Results_from_input/{input_folder}'\n",
    "\n",
    "if not os.path.exists(output_folder):\n",
    "    os.makedirs(output_folder)\n"
   ]
  },
  {
   "cell_type": "markdown",
   "id": "abf18425",
   "metadata": {},
   "source": [
    "## Load data"
   ]
  },
  {
   "cell_type": "code",
   "execution_count": null,
   "id": "41cc90bd",
   "metadata": {},
   "outputs": [],
   "source": [
    "data_dict = {}\n",
    "for test_db in [file for file in os.listdir(f'Input/{input_folder}') if '.csv' in file]:\n",
    "    test_db_name = test_db.replace('.csv','')\n",
    "    data_dict[test_db_name] = pd.read_csv(f'Input/{input_folder}/{test_db}')\n"
   ]
  },
  {
   "cell_type": "markdown",
   "id": "a90f10e4",
   "metadata": {},
   "source": [
    "## Compute value functions"
   ]
  },
  {
   "cell_type": "markdown",
   "id": "c24279be",
   "metadata": {},
   "source": [
    "#### Auxiliary functions"
   ]
  },
  {
   "cell_type": "code",
   "execution_count": null,
   "id": "e74ace09",
   "metadata": {},
   "outputs": [],
   "source": [
    "\"\"\"Basic code for nearest-neighbour value functions.\"\"\"\n",
    "from __future__ import annotations\n",
    "\n",
    "from enum import Enum\n",
    "\n",
    "import numpy as np\n",
    "from rdkit.Chem import DataStructs, AllChem\n",
    "\n",
    "from syntheseus.search.graph.and_or import OrNode\n",
    "from syntheseus.search.node_evaluation.base import NoCacheNodeEvaluator\n",
    "from syntheseus.search.mol_inventory import ExplicitMolInventory\n",
    "\n",
    "# from Users.ilariasartori.syntheseus.search.graph.and_or import OrNode\n",
    "\n",
    "\n",
    "class DistanceToCost(Enum):\n",
    "    NOTHING = 0\n",
    "    EXP = 1\n",
    "    SQRT = 2\n",
    "    TIMES10 = 3\n",
    "    TIMES100 = 4\n",
    "    NUM_NEIGHBORS_TO_1 = 5\n",
    "    NUM_NEIGHBORS_TO_1_TIMES1000 = 6\n",
    "\n",
    "\n",
    "class TanimotoNNCostEstimator():\n",
    "    \"\"\"Estimates cost of a molecule using Tanimoto distance to purchasable molecules.\"\"\"\n",
    "\n",
    "    def __init__(\n",
    "        self,\n",
    "        inventory: ExplicitMolInventory,\n",
    "        distance_to_cost: DistanceToCost,\n",
    "        **kwargs,\n",
    "    ):\n",
    "        super().__init__(**kwargs)\n",
    "        self.distance_to_cost = distance_to_cost\n",
    "        self._set_fingerprints([mol.smiles for mol in inventory.purchasable_mols()])\n",
    "\n",
    "    def get_fingerprint(self, mol: AllChem.Mol):\n",
    "        return AllChem.GetMorganFingerprint(mol, radius=3)\n",
    "\n",
    "    def _set_fingerprints(self, smiles_list: list[str]) -> None:\n",
    "        \"\"\"Initialize fingerprint cache.\"\"\"\n",
    "        mols = list(map(AllChem.MolFromSmiles, smiles_list))\n",
    "        assert None not in mols, \"Invalid SMILES encountered.\"\n",
    "        self._fps = list(map(self.get_fingerprint, mols))\n",
    "        \n",
    "    def find_min_num_elem_summing_to_threshold(self, array, threshold):\n",
    "        # Sort the array in ascending order\n",
    "        sorted_array = np.sort(array)[::-1]\n",
    "\n",
    "        # Calculate the cumulative sum of the sorted array\n",
    "        cum_sum = np.cumsum(sorted_array)\n",
    "\n",
    "        # Find the index where the cumulative sum exceeds threshold \n",
    "        index = np.searchsorted(cum_sum, threshold)\n",
    "\n",
    "        # Check if a subset of elements sums up to more than threshold\n",
    "        if index < len(array):\n",
    "            return index + 1  # Add 1 to account for 0-based indexing\n",
    "\n",
    "        # If no subset of elements sums up to more than threshold\n",
    "        return len(array) #-1\n",
    "\n",
    "    def _get_nearest_neighbour_dist(self, smiles: str) -> float:\n",
    "        fp_query = self.get_fingerprint(AllChem.MolFromSmiles(smiles))\n",
    "        tanimoto_sims = DataStructs.BulkTanimotoSimilarity(fp_query, self._fps)\n",
    "        if self.distance_to_cost in [DistanceToCost.NUM_NEIGHBORS_TO_1, DistanceToCost.NUM_NEIGHBORS_TO_1_TIMES1000]:\n",
    "            return (self.find_min_num_elem_summing_to_threshold(array=tanimoto_sims,threshold=1)-1)/ len(tanimoto_sims)\n",
    "        else:\n",
    "            return 1 - max(tanimoto_sims)\n",
    "\n",
    "    def evaluate_molecules(self, molecules_smiles: list[str]) -> dict:\n",
    "        \"\"\"Returns a dictionary of {molecule_smiles:molecule_value}.\"\"\"\n",
    "        if len(molecules_smiles) == 0:\n",
    "            return {}\n",
    "\n",
    "        # Get distances to nearest neighbours\n",
    "        nn_dists = np.asarray(\n",
    "            [self._get_nearest_neighbour_dist(mol_smiles) for mol_smiles in molecules_smiles]\n",
    "        )\n",
    "        assert np.min(nn_dists) >= 0\n",
    "\n",
    "        # Turn into costs\n",
    "        if self.distance_to_cost == DistanceToCost.NOTHING:\n",
    "            values = nn_dists\n",
    "        elif self.distance_to_cost == DistanceToCost.EXP:\n",
    "            values = np.exp(nn_dists) - 1\n",
    "        elif self.distance_to_cost == DistanceToCost.SQRT:\n",
    "            values = np.sqrt(nn_dists) \n",
    "        elif self.distance_to_cost == DistanceToCost.TIMES10:\n",
    "            values = 10.0*nn_dists\n",
    "        elif self.distance_to_cost == DistanceToCost.TIMES100:\n",
    "            values = 100.0*nn_dists\n",
    "        elif self.distance_to_cost == DistanceToCost.NUM_NEIGHBORS_TO_1:\n",
    "            values = nn_dists\n",
    "        elif self.distance_to_cost == DistanceToCost.NUM_NEIGHBORS_TO_1_TIMES1000:\n",
    "            values = 1000.0*nn_dists\n",
    "        else:\n",
    "            raise NotImplementedError(self.distance_to_cost)\n",
    "\n",
    "        return {k: v for k, v in zip(molecules_smiles, values)}\n",
    "    \n",
    "    \n",
    "class ConstantMolEvaluator():  \n",
    "    def __init__(\n",
    "        self,\n",
    "        constant_value: float,\n",
    "        **kwargs,\n",
    "    ):\n",
    "        self.constant_value=constant_value\n",
    "    \n",
    "    def evaluate_molecules(self, molecules_smiles: list[str]) -> dict:\n",
    "        return {k: self.constant_value for k in molecules_smiles}\n",
    "    "
   ]
  },
  {
   "cell_type": "markdown",
   "id": "f46660b7",
   "metadata": {},
   "source": [
    "#### Which value functions to consider"
   ]
  },
  {
   "cell_type": "code",
   "execution_count": null,
   "id": "e7b47ba8",
   "metadata": {},
   "outputs": [],
   "source": [
    "inventory=PaRoutesInventory(n=5)"
   ]
  },
  {
   "cell_type": "code",
   "execution_count": null,
   "id": "55245136",
   "metadata": {},
   "outputs": [],
   "source": [
    "\n",
    "value_fns = [\n",
    "    (\"constant-0\", ConstantMolEvaluator(0.0)),\n",
    "    (\n",
    "        \"Tanimoto-distance\",\n",
    "        TanimotoNNCostEstimator(\n",
    "            inventory=inventory, distance_to_cost=DistanceToCost.NOTHING\n",
    "        ),\n",
    "    ),\n",
    "    (\n",
    "        \"Tanimoto-distance-TIMES10\",\n",
    "        TanimotoNNCostEstimator(\n",
    "            inventory=inventory, distance_to_cost=DistanceToCost.TIMES10\n",
    "        ),\n",
    "    ),\n",
    "#     (\n",
    "#         \"Tanimoto-distance-TIMES100\",\n",
    "#         TanimotoNNCostEstimator(\n",
    "#             inventory=inventory, distance_to_cost=DistanceToCost.TIMES100\n",
    "#         ),\n",
    "#     ),\n",
    "    (\n",
    "        \"Tanimoto-distance-EXP\",\n",
    "        TanimotoNNCostEstimator(\n",
    "            inventory=inventory, distance_to_cost=DistanceToCost.EXP\n",
    "        ),\n",
    "    ),\n",
    "    (\n",
    "        \"Tanimoto-distance-SQRT\",\n",
    "        TanimotoNNCostEstimator(\n",
    "            inventory=inventory, distance_to_cost=DistanceToCost.SQRT\n",
    "        ),\n",
    "    ),\n",
    "    (\n",
    "        \"Tanimoto-distance-NUM_NEIGHBORS_TO_1\",\n",
    "        TanimotoNNCostEstimator(\n",
    "            inventory=inventory, distance_to_cost=DistanceToCost.NUM_NEIGHBORS_TO_1\n",
    "        ),\n",
    "    ),\n",
    "    (\n",
    "        \"Tanimoto-distance-NUM_NEIGHBORS_TO_1_TIMES1000\",\n",
    "        TanimotoNNCostEstimator(\n",
    "            inventory=inventory, distance_to_cost=DistanceToCost.NUM_NEIGHBORS_TO_1_TIMES1000\n",
    "        ),\n",
    "    ),\n",
    "]\n",
    "\n",
    "labelalias = {\n",
    "    'constant-0': 'constant-0',\n",
    "    'Tanimoto-distance': 'Tanimoto',\n",
    "    'Tanimoto-distance-TIMES10': 'Tanimoto_times10',\n",
    "    'Tanimoto-distance-TIMES100': 'Tanimoto_times100',\n",
    "    'Tanimoto-distance-EXP': 'Tanimoto_exp',\n",
    "    'Tanimoto-distance-SQRT': 'Tanimoto_sqrt',\n",
    "    \"Tanimoto-distance-NUM_NEIGHBORS_TO_1\": \"Tanimoto_nn_to_1\",\n",
    "    \"Tanimoto-distance-NUM_NEIGHBORS_TO_1_TIMES1000\": \"Tanimoto_nn_to_1_times1000\",\n",
    "}\n",
    "\n"
   ]
  },
  {
   "cell_type": "markdown",
   "id": "d41efe34",
   "metadata": {},
   "source": [
    "#### Remove infs"
   ]
  },
  {
   "cell_type": "code",
   "execution_count": null,
   "id": "bd77c00e",
   "metadata": {},
   "outputs": [],
   "source": [
    "for name in data_dict.keys(): \n",
    "    data_dict[name] = data_dict[name].replace(np.inf, -1)"
   ]
  },
  {
   "cell_type": "code",
   "execution_count": null,
   "id": "d4768f47",
   "metadata": {},
   "outputs": [],
   "source": [
    "# data_dict_copy = data_dict.copy()"
   ]
  },
  {
   "cell_type": "code",
   "execution_count": null,
   "id": "3fdcd4ad",
   "metadata": {},
   "outputs": [],
   "source": [
    "\n",
    "[file for file in os.listdir(f'{output_folder}') if '.csv' in file]"
   ]
  },
  {
   "cell_type": "markdown",
   "id": "7e7acdcb",
   "metadata": {},
   "source": [
    "#### Add some features"
   ]
  },
  {
   "cell_type": "code",
   "execution_count": null,
   "id": "4901648a",
   "metadata": {},
   "outputs": [],
   "source": [
    "#### CAREFUL If we need to edit results\n",
    "data_dict = {}\n",
    "for test_db in [file for file in os.listdir(f'{output_folder}') if '.csv' in file]:\n",
    "    test_db_name = test_db.replace('_result.csv','')\n",
    "    data_dict[test_db_name] = pd.read_csv(f'{output_folder}/{test_db}')\n",
    "\n"
   ]
  },
  {
   "cell_type": "code",
   "execution_count": null,
   "id": "c19229ee",
   "metadata": {},
   "outputs": [],
   "source": [
    "# Binned cost (lowest_cost_route_found)\n",
    "cost_variable = 'lowest_cost_route_found'\n",
    "binned_var_name = 'lowest_cost_route_(binned)'\n",
    "num_bins = 20\n",
    "lc_bin_ranges_dict = {}\n",
    "lc_bin_labels_dict = {}\n",
    "for test_db_name, test_data in data_dict.items():\n",
    "    min_value = 0 # int(test_data['lowest_cost_route_found'].min())\n",
    "    max_value = int(test_data[cost_variable].max())\n",
    "    bin_range = np.array([-1, -0.5])\n",
    "    bin_range = np.append(bin_range, np.linspace(min_value, max_value, num_bins+1, dtype=int))\n",
    "#     bin_range = np.linspace(min_value, max_value, num_bins+1, dtype=int)\n",
    "    bin_labels = [f'{str(int(round(lower,0))).zfill(3)}-{str(int(round(upper,0))).zfill(3)}' for lower, upper in zip(bin_range[:-1], bin_range[1:])]\n",
    "    bin_labels[0] = 'NotSolved'\n",
    "    bin_labels[1] = '000'\n",
    "    lc_bin_ranges_dict[test_db_name] = bin_range\n",
    "    lc_bin_labels_dict[test_db_name] = bin_labels\n",
    "    \n",
    "\n",
    "# Is purchasable\n",
    "purchasable_mols_smiles = [mol.smiles for mol in inventory.purchasable_mols()]\n",
    "\n",
    "for name in data_dict.keys(): \n",
    "    # Is purchasable\n",
    "    data_dict[name]['is_purchasable'] = (data_dict[name]['smiles'].isin(purchasable_mols_smiles)) * 1.0\n",
    "    \n",
    "    # Binned cost (lowest_cost_route_found)\n",
    "    data_dict[name][binned_var_name] = pd.cut(data_dict[name][cost_variable], bins=lc_bin_ranges_dict[test_db_name], labels=lc_bin_labels_dict[test_db_name], include_lowest=True)\n",
    "#     pd.Series.cat.add_categories(data_dict[name][binned_var_name], ['NotSolved', '000'])\n",
    "    data_dict[name].loc[data_dict[name][cost_variable] == -1, binned_var_name] = 'NotSolved'\n",
    "    data_dict[name].loc[data_dict[name][cost_variable] == 0, binned_var_name] = '000'\n",
    "\n"
   ]
  },
  {
   "cell_type": "code",
   "execution_count": null,
   "id": "a7ef701c",
   "metadata": {},
   "outputs": [],
   "source": [
    "bin_labels"
   ]
  },
  {
   "cell_type": "code",
   "execution_count": null,
   "id": "892628c5",
   "metadata": {},
   "outputs": [],
   "source": []
  },
  {
   "cell_type": "code",
   "execution_count": null,
   "id": "4ca1601e",
   "metadata": {},
   "outputs": [],
   "source": [
    "from paroutes import PaRoutesInventory \n",
    "from tqdm.auto import tqdm\n",
    "\n",
    "for name in data_dict.keys():     \n",
    "    smiles_list = data_dict[name]['smiles'].unique()\n",
    "    for value_function_name, value_function in tqdm(value_fns):\n",
    "        smiles_value_fn_dict = value_function.evaluate_molecules(smiles_list)\n",
    "        data_dict[name][value_function_name] = data_dict[name]['smiles'].map(smiles_value_fn_dict)\n",
    "    \n",
    "    "
   ]
  },
  {
   "cell_type": "code",
   "execution_count": null,
   "id": "25c8d487",
   "metadata": {},
   "outputs": [],
   "source": [
    "# test_data_copy = test_data.copy()"
   ]
  },
  {
   "cell_type": "code",
   "execution_count": null,
   "id": "09c71aed",
   "metadata": {},
   "outputs": [],
   "source": [
    "for test_db_name, test_data in data_dict.items():\n",
    "    print(test_data.shape)"
   ]
  },
  {
   "cell_type": "code",
   "execution_count": null,
   "id": "b02debe5",
   "metadata": {},
   "outputs": [],
   "source": [
    "column_order = [\n",
    "    'smiles', 'n_iter', 'first_soln_time', \n",
    "    'lowest_cost_route_found', 'lowest_cost_route_(binned)',\n",
    "    'best_route_cost_lower_bound', 'lowest_depth_route_found',\n",
    "    'best_route_depth_lower_bound', 'num_calls_rxn_model',\n",
    "    'num_nodes_in_tree', \n",
    "    'is_purchasable',\n",
    "    'constant-0', 'Tanimoto-distance',\n",
    "    'Tanimoto-distance-TIMES10', \n",
    "    'Tanimoto-distance-EXP',\n",
    "    'Tanimoto-distance-SQRT', \n",
    "    'Tanimoto-distance-NUM_NEIGHBORS_TO_1',\n",
    "    'Tanimoto-distance-NUM_NEIGHBORS_TO_1_TIMES1000',\n",
    "]\n",
    "\n",
    "for test_db_name, test_data in data_dict.items(): \n",
    "    test_data = test_data[column_order]\n",
    "    test_data.to_csv(f'{output_folder}/{test_db_name}_result.csv', index=False)"
   ]
  },
  {
   "cell_type": "code",
   "execution_count": null,
   "id": "19bd259d",
   "metadata": {},
   "outputs": [],
   "source": [
    "# aa = pd.read_csv('Results_from_input/20230524_1010/paroutes_n5_result.csv')\n",
    "# aa = aa.rename(columns={'cost_binned': 'lowest_cost_route_(binned)'})\n",
    "# aa.to_csv('Results_from_input/20230524_1010/paroutes_n5_result.csv', index=False)"
   ]
  }
 ],
 "metadata": {
  "kernelspec": {
   "display_name": "Python 3 (ipykernel)",
   "language": "python",
   "name": "python3"
  },
  "language_info": {
   "codemirror_mode": {
    "name": "ipython",
    "version": 3
   },
   "file_extension": ".py",
   "mimetype": "text/x-python",
   "name": "python",
   "nbconvert_exporter": "python",
   "pygments_lexer": "ipython3",
   "version": "3.10.8"
  }
 },
 "nbformat": 4,
 "nbformat_minor": 5
}
