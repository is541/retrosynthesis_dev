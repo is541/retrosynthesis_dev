{
 "cells": [
  {
   "cell_type": "code",
   "execution_count": null,
   "id": "57d0bc0e",
   "metadata": {},
   "outputs": [],
   "source": [
    "import pickle\n",
    "import os\n",
    "from tqdm.auto import tqdm\n",
    "from syntheseus.search.graph.message_passing import run_message_passing\n",
    "from syntheseus.search.analysis.tree_solution_counting import num_solutions_update\n",
    "from syntheseus.search.analysis.route_extraction import min_cost_routes\n",
    "from syntheseus.search.graph.and_or import OrNode, AndNode\n",
    "from syntheseus.search.analysis.route_extraction import _iter_top_routes, _min_route_cost, _min_route_partial_cost\n",
    "\n",
    "from syntheseus.search import visualization\n"
   ]
  },
  {
   "cell_type": "markdown",
   "id": "e79a1bcf",
   "metadata": {},
   "source": [
    "## Settings"
   ]
  },
  {
   "cell_type": "code",
   "execution_count": null,
   "id": "e3f9919c",
   "metadata": {},
   "outputs": [],
   "source": [
    "\n",
    "# cost_type = \"cost_1_react\"\n",
    "# cost_type = \"cost_react_from_data\"\n",
    "# cost_type = \"cost_react_from_data_pow01\"\n",
    "\n",
    "run_id = '202305-2911-2320-5a95df0e-3008-4ebe-acd8-ecb3b50607c7'\n",
    "# input_file = f'Runs/{run_id}/routes_df.csv'\n",
    "# routes_df = pd.read_csv(input_file)\n",
    "\n",
    "input_folder = f'Runs/{run_id}/constant0_graph_pickles'\n",
    "input_file_routes = f'Runs/{run_id}/targ_routes.pickle'\n",
    "input_file_distances = f'Runs/{run_id}/targ_to_purch_distances.pickle'\n",
    "\n",
    "# with open(input_file_routes, 'rb') as handle:\n",
    "#     targ_routes_dict = pickle.load(handle)\n",
    "    \n",
    "# # Load distances data\n",
    "# with open(input_file_distances, 'rb') as handle:\n",
    "#     distances_dict = pickle.load(handle)\n",
    "\n",
    "\n",
    "output_folder = f'Plots/{run_id}/Sample_routes'\n",
    "\n"
   ]
  },
  {
   "cell_type": "code",
   "execution_count": null,
   "id": "6173841f",
   "metadata": {},
   "outputs": [],
   "source": [
    "list_smiles = [\n",
    "    \"COc1c(N2CCN(C(=O)COC(C)=O)CC2)cc(Br)cc1C(C)(C)C\", # Nice (1)\n",
    "    \"C=CC(OCOC)c1ccc(N(c2cc3oc(-c4ccc(F)cc4)c(C(=O)NC)c3cc2C2CC2)S(C)(=O)=O)cc1Cl\", # Route molecole easy all'inizio, complesse in profondità\n",
    "#     \"CC(C(=O)O)c1ccc2nc(N)oc2c1\",\n",
    "#     \"Cc1ccc2ccccc2c1CC(C)Oc1ccccc1N\",\n",
    "#     \"Cc1c(Oc2ccc(C(CO)CO)cc2)ncnc1OC1CCN(c2ncccn2)CC1\",\n",
    "#     \"CCCCCCCCCCCCCCCCSCC(CBr)OC\",\n",
    "    \"O=C(NCCc1ccc(Cl)cc1C1CC1)c1ccc(Oc2cc3c(cc2Cl)C(C(=O)O)CCO3)cc1\", # Nice (2)\n",
    "    \"N#Cc1ccccc1-c1cc(F)cc(-c2ccnc3nc(C(F)(F)F)ccc23)c1\", # Nice (3)\n",
    "    \"Cc1cccc2c(Cl)ncc(C(=O)NCC3CCOCC3)c12\", # Ok\n",
    "#     \"Cc1nc(C(C)(CS(C)(=O)=O)NC(=O)c2cc(O[C@@H](C)C(F)(F)F)c(C3CCC3)cn2)no1\",\n",
    "#     \"CC(C)(CC1CCN(c2ccc([N+](=O)[O-])cn2)CC1)C(=O)O\",\n",
    "#     \"FC(F)(F)c1ccc(COc2ccc(Br)cc2CC2CNC2)o1\",\n",
    "#     \"CC(=O)NCCOc1ccc2c(c1)c(Cl)cn2S(=O)(=O)c1ccccc1\",\n",
    "#     \"COc1ccc(Oc2ccccc2Cl)cc1C(C)C(=O)O\",\n",
    "#     \"CC1(NC(=O)OC(C)(C)C)CCCN(c2c(N)cnc3c2CCC3)C1\",\n",
    "#     \"CCN1CCN(C2(C(=O)N3C[C@H](S(=O)(=O)c4ccccc4Cl)C[C@H]3C(=O)NC3(C#N)CC3)CC2)CC1\",\n",
    "#     \"Oc1ccc2nc(-c3ccc(-c4nn[nH]n4)cc3Cl)ccc2c1\",\n",
    "#     \"CCOC(=O)Cc1ccc(OC)c(-c2ccc(NC(C)=O)cc2CN(CC)C(=O)OCc2ccccc2)c1\",\n",
    "#     \"Cc1cccc(NC2(CO)CCN(Cc3ccccc3)CC2)c1\",\n",
    "    \"CN(C)Cc1cc(C(C)(C)C)cc(Cl)n1\", # Nice\n",
    "#     \"CCOC(=O)C(C)(CCCc1ccccc1)Cc1ccc(OCCN)cc1\",\n",
    "#     \"CCCC(Oc1ccccc1Br)C(C)=O\",\n",
    "#     \"CN(Cc1ccccc1)C(=O)c1cc(NC(=O)c2cc(F)c(F)cc2Cl)[nH]n1\",\n",
    "    \"COC(=O)c1cc(N=Nc2ccc(OCCCCCCCCN=[N+]=[N-])cc2)ccc1O\", # From 1 reaction exit 3 molecules (but target not nice, long chain)\n",
    "]"
   ]
  },
  {
   "cell_type": "markdown",
   "id": "0152e875",
   "metadata": {},
   "source": [
    "## Run "
   ]
  },
  {
   "cell_type": "code",
   "execution_count": null,
   "id": "0a978580",
   "metadata": {},
   "outputs": [],
   "source": [
    "cost_type = \"cost_1_react\"\n",
    "# cost_type = \"cost_react_from_data\"\n",
    "# cost_type = \"cost_react_from_data_pow01\"\n",
    "\n",
    "\n",
    "\n",
    "def custom_assign_cost(graph, cost_type):\n",
    "    if cost_type == \"cost_1_react\": \n",
    "        for node in graph._graph.nodes():\n",
    "                if isinstance(node, (AndNode,)):\n",
    "                    node.data[\"route_cost\"] = 1.0\n",
    "                else:\n",
    "                    node.data[\"route_cost\"] = 0.0\n",
    "    elif cost_type == \"cost_react_from_data\": \n",
    "        for node in graph._graph.nodes():\n",
    "                if isinstance(node, (AndNode,)):\n",
    "                    node.data[\"route_cost\"] = node.data[\"retro_star_rxn_cost\"]\n",
    "                else:\n",
    "                    node.data[\"route_cost\"] = 0.0\n",
    "    elif cost_type == \"cost_react_from_data_pow01\": \n",
    "        for node in graph._graph.nodes():\n",
    "                if isinstance(node, (AndNode,)):\n",
    "                    node.data[\"route_cost\"] = np.power(node.data[\"retro_star_rxn_cost\"], 0.1)\n",
    "                else:\n",
    "                    node.data[\"route_cost\"] = 0.0\n",
    "    else:\n",
    "        raise NotImplementedError(f'Cost type {cost_type}')\n",
    "    \n",
    "    return output_graph\n",
    "\n"
   ]
  },
  {
   "cell_type": "code",
   "execution_count": null,
   "id": "d1b75df4",
   "metadata": {},
   "outputs": [],
   "source": [
    "for file_name in tqdm([file for file in os.listdir(input_folder) if 'pickle' in file]):\n",
    "    with open(f'{input_folder}/{file_name}', 'rb') as handle:\n",
    "        for smiles, output_graph in (pickle.load(handle)).items():\n",
    "            if smiles in list_smiles:\n",
    "                output_graph = custom_assign_cost(output_graph, cost_type)\n",
    "                \n",
    "                for route_rank, (route_cost, route) in enumerate(_iter_top_routes(\n",
    "                        graph=output_graph,\n",
    "                        cost_fn=_min_route_cost,\n",
    "                        cost_lower_bound=_min_route_partial_cost,\n",
    "                        max_routes=1,\n",
    "                        yield_partial_routes=False,\n",
    "                    )):\n",
    "                        # Visualise route\n",
    "                        visualization.visualize_andor(\n",
    "                            graph=output_graph,\n",
    "                            filename=f\"{output_folder}/route_{route_rank+1}_{smiles}.pdf\",\n",
    "                            nodes=route,\n",
    "                        )\n",
    "                \n",
    "\n",
    "                visualization.visualize_andor(\n",
    "                            graph=output_graph,\n",
    "                            filename=f\"{output_folder}/wholeGraph_{smiles}.pdf\",\n",
    "                        )\n",
    "\n",
    "                        \n"
   ]
  },
  {
   "cell_type": "code",
   "execution_count": null,
   "id": "c2e916f3",
   "metadata": {},
   "outputs": [],
   "source": [
    "os.getcwd()"
   ]
  },
  {
   "cell_type": "code",
   "execution_count": null,
   "id": "96740eb8",
   "metadata": {},
   "outputs": [],
   "source": []
  }
 ],
 "metadata": {
  "kernelspec": {
   "display_name": "Python 3 (ipykernel)",
   "language": "python",
   "name": "python3"
  },
  "language_info": {
   "codemirror_mode": {
    "name": "ipython",
    "version": 3
   },
   "file_extension": ".py",
   "mimetype": "text/x-python",
   "name": "python",
   "nbconvert_exporter": "python",
   "pygments_lexer": "ipython3",
   "version": "3.10.8"
  }
 },
 "nbformat": 4,
 "nbformat_minor": 5
}
