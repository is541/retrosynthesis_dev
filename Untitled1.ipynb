{
 "cells": [
  {
   "cell_type": "code",
   "execution_count": null,
   "id": "9d7a7578",
   "metadata": {},
   "outputs": [],
   "source": [
    "# PAROUTES\n",
    "\n",
    "\"202305-2911-2320-5a95df0e-3008-4ebe-acd8-ecb3b50607c7\"\n",
    "\n",
    "\"GUACAMOL\"\n",
    "\"202306-0623-5220-30d27064-9736-4889-a3ff-60cb5605ee77\"\n",
    "\"202306-1718-5019-ec003f2a-37d2-4ea5-a166-42cbdd2b4ca3\"\n",
    "\"202306-1813-3327-86b8e174-6b6b-4905-8a2e-8460c84b3183\"\n",
    "\"202306-1815-4941-332f69e1-86d9-4cda-ab22-daa5f710f7fc\"\n",
    "\"202306-1817-1357-84b60861-3426-4668-a772-b1b62f8b2189\"\n",
    "\"202306-1909-0914-b71b5898-64bd-4b25-8452-65bf6974d97c\"\n",
    "\"202306-2003-0025-f30ff715-bd6e-4b9c-a5ad-3163b053016b\"\n",
    "\"202306-2017-4122-3d173839-86e9-4dfc-a457-535a9d75ebd5\""
   ]
  }
 ],
 "metadata": {
  "kernelspec": {
   "display_name": "Python 3 (ipykernel)",
   "language": "python",
   "name": "python3"
  },
  "language_info": {
   "codemirror_mode": {
    "name": "ipython",
    "version": 3
   },
   "file_extension": ".py",
   "mimetype": "text/x-python",
   "name": "python",
   "nbconvert_exporter": "python",
   "pygments_lexer": "ipython3",
   "version": "3.10.8"
  }
 },
 "nbformat": 4,
 "nbformat_minor": 5
}
